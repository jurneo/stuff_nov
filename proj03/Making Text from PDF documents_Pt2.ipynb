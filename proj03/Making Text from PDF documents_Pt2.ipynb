{
 "cells": [
  {
   "cell_type": "markdown",
   "metadata": {},
   "source": [
    "## Text extraction and preparation"
   ]
  },
  {
   "cell_type": "markdown",
   "metadata": {},
   "source": [
    "The text data source is from PDF documents which are mostly of conference and journal papers.\n",
    "\n",
    "I use several tools to extract the text from PDF. One package is called **textract**\n",
    "\n",
    "Some manual intervention (editing, and deletion) are involved as the extraction results are not ideal."
   ]
  },
  {
   "cell_type": "code",
   "execution_count": 4,
   "metadata": {
    "collapsed": false
   },
   "outputs": [
    {
     "name": "stderr",
     "output_type": "stream",
     "text": [
      "Using TensorFlow backend.\n"
     ]
    }
   ],
   "source": [
    "import os\n",
    "import keras\n",
    "from keras.preprocessing import text\n",
    "import textract"
   ]
  },
  {
   "cell_type": "markdown",
   "metadata": {},
   "source": [
    "Below is one snapshot of the folder location where a list of PDF papers which are in one category are placed into.\n",
    "\n",
    "For this notebook, the category is for 'convolutional neural network'"
   ]
  },
  {
   "cell_type": "code",
   "execution_count": 5,
   "metadata": {
    "collapsed": true
   },
   "outputs": [],
   "source": [
    "path = 'C:/Users/k/Documents/qiqqa/324534E5-7D3E-4DAC-B4E9-057A96B7AC62'\n",
    "pdf = []\n",
    "for root, dr, fs in os.walk(path):\n",
    "    for f in fs:\n",
    "        if '.pdf' not in f:\n",
    "            continue\n",
    "        pdf.append(root + '/' + f)"
   ]
  },
  {
   "cell_type": "markdown",
   "metadata": {},
   "source": [
    "Following, we use combination of **nltk** stopwords and RegexpTokenizer to help remove unwanted characters. Keras text preprocessing is also used to split the texts into word sequences."
   ]
  },
  {
   "cell_type": "code",
   "execution_count": 6,
   "metadata": {
    "collapsed": false
   },
   "outputs": [],
   "source": [
    "# the snippet code from ref[1] -- see next notebook\n",
    "from nltk.corpus import stopwords\n",
    "from nltk.tokenize import RegexpTokenizer, sent_tokenize\n",
    "\n",
    "# Load stop-words\n",
    "stop_words = set(stopwords.words('english'))\n",
    "\n",
    "# Initialize tokenizer\n",
    "# It's also possible to try with a stemmer or to mix a stemmer and a lemmatizer\n",
    "tokenizer = RegexpTokenizer('[\\'a-zA-Z]+')"
   ]
  },
  {
   "cell_type": "code",
   "execution_count": 7,
   "metadata": {
    "collapsed": false
   },
   "outputs": [
    {
     "data": {
      "text/plain": [
       "113"
      ]
     },
     "execution_count": 7,
     "metadata": {},
     "output_type": "execute_result"
    }
   ],
   "source": [
    "len(pdf)"
   ]
  },
  {
   "cell_type": "code",
   "execution_count": 15,
   "metadata": {
    "collapsed": true
   },
   "outputs": [],
   "source": [
    "min_num_words = 5\n",
    "label = 'convolutional neural network'\n",
    "docs = []"
   ]
  },
  {
   "cell_type": "code",
   "execution_count": 16,
   "metadata": {
    "collapsed": false
   },
   "outputs": [],
   "source": [
    "# check if there is duplicate\n",
    "dup = set()"
   ]
  },
  {
   "cell_type": "code",
   "execution_count": 17,
   "metadata": {
    "collapsed": false
   },
   "outputs": [
    {
     "name": "stdout",
     "output_type": "stream",
     "text": [
      "[\"b'arXiv:1312.6229v4 [cs.CV] 24 Feb 2014\", '', 'OverFeat:', 'Integrated Recognition, Localization and Detection', 'using Convolutional Networks']\n",
      "\n",
      "[\"b'SSD: Single Shot\", 'MultiBox Detector', 'Wei Liu(1), Dragomir Anguelov(2), Dumitru Erhan(3), Christian Szegedy(3),', 'Scott Reed(4), Cheng-Yang Fu(1), Alexander C. Berg(1)', '']\n",
      "\n",
      "[\"b'Going Deeper with Convolutions\", 'Christian Szegedy1 , Wei Liu2 , Yangqing Jia1 , Pierre Sermanet1 , Scott Reed3 ,', 'Dragomir Anguelov1 , Dumitru Erhan1 , Vincent Vanhoucke1 , Andrew Rabinovich4', '1', '']\n",
      "\n",
      "[\"b'Imperial College London\", '', 'arXiv:1509.01549v2 [cs.AI] 14 Sep 2015', '', 'Department of Computing']\n",
      "\n",
      "[\"b'REVIEW\", '', 'doi:10.1038/nature14539', '', 'Deep learning']\n",
      "\n",
      "[\"b'Mask R-CNN\", 'Kaiming He', '', 'Georgia Gkioxari', '']\n",
      "\n",
      "exception..\n",
      "[\"b'Learning both Weights and Connections for Efficient\", 'Neural Networks', 'Jeff Pool', 'NVIDIA', 'jpool@nvidia.com']\n",
      "\n",
      "[\"b'arXiv:1512.02325v5 [cs.CV] 29 Dec 2016\", '', '1', '', 'SSD: Single Shot MultiBox Detector']\n",
      "\n",
      "exception..\n",
      "exception..\n",
      "[\"b'DeepPose: Human Pose Estimation via Deep Neural Networks\", 'Alexander Toshev', '', 'Christian Szegedy', '']\n",
      "\n",
      "[\"b'Resistance Welding Spot Defect Detection\", 'with Convolutional Neural Networks', 'Zhiye Guo, Shaofeng Ye, Yiju Wang, and Chun Lin(&)', 'School of Aerospace Engineering of Xiamen University, Xiamen 361005, China', 'linchun@xmu.edu.cn']\n",
      "\n",
      "[\"b'DenseBox: Unifying Landmark Localization with\", 'End to End Object Detection', '', 'Lichao Huang1', '']\n",
      "\n",
      "[\"b'Optimizing FPGA-based Accelerator Design for Deep\", 'Convolutional Neural Networks', 'Chen Zhang1', 'chen.ceca@pku.edu.cn', 'Yijin Guan1']\n",
      "\n",
      "[\"b'Hinton, Li Deng, Dong Yu, George E. Dahl, Abdel-rahman Mohamed, Navdeep Jaitly,\", '[Geoffrey', 'Andrew Senior, Vincent Vanhoucke, Patrick Nguyen, Tara N. Sainath, and Brian Kingsbury]', '', '\\\\xc2\\\\xa9 ISTOCKPHOTO.COM/SUCHOA LERTADIPAT']\n",
      "\n",
      "[\"b'NeuralNetworks, Vol. 1, pp. 119-130, 1988\", '', '0893-6080/88 $3.00 + .00', 'Copyright \\\\xc2\\\\xa9 1988 Pergamon Press plc', '']\n",
      "\n",
      "[\"b'LETTER\", '', 'doi:10.1038/nature14236', '', 'Human-level control through deep reinforcement']\n",
      "\n",
      "[\"b'A fast learning algorithm for deep belief nets \\\\xe2\\\\x88\\\\x97\", 'Geoffrey E. Hinton and Simon Osindero', '', 'Yee-Whye Teh', '']\n",
      "\n",
      "[\"b'3D Convolutional Neural Networks for Human Action Recognition\", '', 'shuiwang.ji@asu.edu', '', 'Shuiwang Ji']\n",
      "\n",
      "[\"b'You Only Look Once:\", 'Unified, Real-Time Object Detection', 'Joseph Redmon', 'University of Washington', '']\n",
      "\n",
      "[\"b'Learning visual odometry with a convolutional network\", '', 'Kishore Konda1 , Roland Memisevic2', '1 Goethe', '']\n",
      "\n",
      "[\"b'CNN-RNN: A Unified Framework for Multi-label Image Classification\", 'Jiang Wang1 Yi Yang1 Junhua Mao2 Zhiheng Huang3\\\\xe2\\\\x88\\\\x97 Chang Huang4\\\\xe2\\\\x88\\\\x97 Wei Xu1', '1', 'Baidu Research 2 University of California at Los Angles 3 Facebook Speech 4 Horizon Robotics', '']\n",
      "\n",
      "[\"b'Published as a conference paper at ICLR 2015\", '', 'V ERY D EEP C ONVOLUTIONAL N ETWORKS', 'FOR L ARGE -S CALE I MAGE R ECOGNITION', '']\n",
      "\n",
      "[\"b'TensorFlow: A System for Large-Scale\", 'Machine Learning', 'Mart\\\\xc3\\\\xadn Abadi, Paul Barham, Jianmin Chen, Zhifeng Chen, Andy Davis, Jeffrey Dean,', 'Matthieu Devin, Sanjay Ghemawat, Geoffrey Irving, Michael Isard, Manjunath Kudlur,', 'Josh Levenberg, Rajat Monga, Sherry Moore, Derek G. Murray, Benoit Steiner, Paul Tucker,']\n",
      "\n",
      "[\"b'See\\\\tdiscussions,\\\\tstats,\\\\tand\\\\tauthor\\\\tprofiles\\\\tfor\\\\tthis\\\\tpublication\\\\tat:\\\\thttps://www.researchgate.net/publication/224183837\", '', 'Deep\\\\tMachine\\\\tLearning\\\\t-\\\\tA\\\\tNew\\\\tFrontier\\\\tin', 'Artificial\\\\tIntelligence\\\\tResearch\\\\t[Research\\\\tFrontier]', 'Article\\\\t\\\\tin\\\\t\\\\tIEEE\\\\tComputational\\\\tIntelligence\\\\tMagazine\\\\t\\\\xc2\\\\xb7\\\\tDecember\\\\t2010']\n",
      "\n",
      "[\"b'A Surface Defect Detection Based\", 'on Convolutional Neural Network', 'Xiaojun Wu1,2(&), Kai Cao1, and Xiaodong Gu1', '1', '']\n",
      "\n",
      "[\"b'Large-scale Video Classification with Convolutional Neural Networks\", 'Andrej Karpathy1,2', '', 'George Toderici1', '']\n",
      "\n",
      "exception..\n",
      "[\"b'Beyond Short Snippets: Deep Networks for Video Classification\", '', '1', '', 'Joe Yue-Hei Ng1']\n",
      "\n",
      "[\"b'Two-Stream Convolutional Networks\", 'for Action Recognition in Videos', '', 'Karen Simonyan', 'Andrew Zisserman']\n",
      "\n",
      "[\"b'Published as a conference paper at ICLR 2015\", '', 'D EEP C APTIONING WITH M ULTIMODAL R ECURRENT', 'N EURAL N ETWORKS ( M -RNN)', '']\n",
      "\n",
      "[\"b'Supervised Learning of Image Restoration with Convolutional Networks\", 'Viren Jain1 , Joseph F. Murray1,2 , Fabian Roth1,2 , Srinivas Turaga1 , Valentin Zhigulin1,2 ,', 'Kevin L. Briggman3 , Moritz N. Helmstaedter3 , Winfried Denk3 , and H. Sebastian Seung1,2', '1', '']\n",
      "\n",
      "[\"b'Learning a Deep Convolutional Network\", 'for Image Super-Resolution', 'Chao Dong1 , Chen Change Loy1 , Kaiming He2 , and Xiaoou Tang1', '1', '']\n",
      "\n",
      "[\"b'Learning to detect and localize many objects from few examples\", '', 'arXiv:1611.05664v1 [cs.CV] 17 Nov 2016', '', 'Bastien Moysset']\n",
      "\n",
      "[\"b'Research Article\", '', '1', '', 'Lensless computational imaging through deep']\n",
      "\n",
      "[\"b'Rich feature hierarchies for accurate object detection and semantic segmentation\", 'Ross Girshick1', '', 'Jeff Donahue1,2 Trevor Darrell1,2', '1']\n",
      "\n",
      "[\"b'Deep learning with COTS HPC systems\", '', 'Adam Coates', 'acoates@cs.stanford.edu', 'Brody Huval']\n",
      "\n",
      "[\"b'See\\\\tdiscussions,\\\\tstats,\\\\tand\\\\tauthor\\\\tprofiles\\\\tfor\\\\tthis\\\\tpublication\\\\tat:\", 'https://www.researchgate.net/publication/220603536', '', 'Image\\\\tprocessing\\\\twith\\\\tneural\\\\tnetworks\\\\t-\\\\ta', 'review.\\\\tPattern\\\\tRecogn\\\\t35:2279C2301']\n",
      "\n",
      "['b\"1', '', 'Faster R-CNN: Towards Real-Time Object', 'Detection with Region Proposal Networks', '']\n",
      "\n",
      "[\"b'See\\\\tdiscussions,\\\\tstats,\\\\tand\\\\tauthor\\\\tprofiles\\\\tfor\\\\tthis\\\\tpublication\\\\tat:\\\\thttps://www.researchgate.net/publication/221078713\", '', 'Stacked\\\\tConvolutional\\\\tAuto-Encoders\\\\tfor', 'Hierarchical\\\\tFeature\\\\tExtraction', 'Conference\\\\tPaper\\\\t\\\\xc2\\\\xb7\\\\tJune\\\\t2011']\n",
      "\n",
      "[\"b'Show and Tell: A Neural Image Caption Generator\", 'Oriol Vinyals', 'Google', '', 'Alexander Toshev']\n",
      "\n",
      "[\"b'INTERSPEECH 2013\", '', 'Exploring Convolutional Neural Network Structures and Optimization', 'Techniques for Speech Recognition', 'Ossama Abdel-Hamid1 , Li Deng2 , Dong Yu2']\n",
      "\n",
      "[\"b'A Vision Inspection System for the Defects\", 'of Resistance Spot Welding Based', 'on Neural Network', 'Shaofeng Ye, Zhiye Guo, Peng Zheng, Lei Wang, and Chun Lin(&)', 'School of Aerospace, Xiamen University, Xiamen, China']\n",
      "\n",
      "[\"b'See\\\\tdiscussions,\\\\tstats,\\\\tand\\\\tauthor\\\\tprofiles\\\\tfor\\\\tthis\\\\tpublication\\\\tat:\\\\thttps://www.researchgate.net/publication/274380447\", '', 'Deep\\\\tConvolutional\\\\tNeural\\\\tNetworks\\\\tfor', 'Sentiment\\\\tAnalysis\\\\tof\\\\tShort\\\\tTexts', 'Conference\\\\tPaper\\\\t\\\\xc2\\\\xb7\\\\tAugust\\\\t2014']\n",
      "\n",
      "[\"b'1\", '', 'Super-Resolution via Deep Learning', 'Khizar Hayat Member, IEEE.', '']\n",
      "\n",
      "exception..\n",
      "[\"b'2013 IEEE Conference on Computer Vision and Pattern Recognition\", '', 'Deep Convolutional Network Cascade for Facial Point Detection', 'Yi Sun1', '1']\n",
      "\n",
      "[\"b'\\\\x0c\\\\x0c\\\\x0c\\\\x0c\\\\x0c\\\\x0c\\\\x0c\\\\x0c'\"]\n",
      "\n",
      "[\"b'On Optimization Methods for Deep Learning\", '', 'Quoc V. Le', 'quocle@cs.stanford.edu', 'Jiquan Ngiam']\n",
      "\n",
      "[\"b'DeepReID: Deep Filter Pairing Neural Network for Person Re-Identification\", 'Wei Li', 'Rui Zhao', 'Tong Xiao', 'Xiaogang Wang\\\\xe2\\\\x88\\\\x97']\n",
      "\n",
      "[\"b'RECENT ADVANCES IN DEEP LEARNING FOR SPEECH RESEARCH AT MICROSOFT\", 'Li Deng, Jinyu Li, Jui-Ting Huang, Kaisheng Yao, Dong Yu, Frank Seide, Michael L. Seltzer, Geoff Zweig,', 'Xiaodong He, Jason Williams, Yifan Gong, and Alex Acero', 'Microsoft Corporation, One Microsoft Way, Redmond, WA 98052, USA', 'ABSTRACT']\n",
      "\n",
      "[\"b'Unsupervised Local Linear Preserving Manifold\", 'Reduction with Uncertainty Pretraining', 'for Image Recognition', 'Qianwen Yang(B) and Fuchun Sun', 'State Key Lab of Intelligent Technology and Systems, Department of Computer']\n",
      "\n",
      "[\"b'Fully Convolutional Networks for Semantic Segmentation\", 'Jonathan Long\\\\xe2\\\\x88\\\\x97', '', 'Evan Shelhamer\\\\xe2\\\\x88\\\\x97', 'UC Berkeley']\n",
      "\n",
      "[\"b'Recurrent Models of Visual Attention\", 'Volodymyr Mnih', '', 'Nicolas Heess Alex Graves', 'Google DeepMind']\n",
      "\n",
      "[\"b'YOLO9000:\", 'Better, Faster, Stronger', 'Joseph Redmon\\\\xe2\\\\x88\\\\x97\\\\xe2\\\\x80\\\\xa0 , Ali Farhadi\\\\xe2\\\\x88\\\\x97\\\\xe2\\\\x80\\\\xa0', 'University of Washington\\\\xe2\\\\x88\\\\x97 , Allen Institute for AI\\\\xe2\\\\x80\\\\xa0', '']\n",
      "\n",
      "[\"b'Convolutional Neural Network Architectures for\", 'Matching Natural Language Sentences', '', 'Baotian Hu\\\\xc2\\\\xa7\\\\xe2\\\\x88\\\\x97', '']\n",
      "\n",
      "[\"b'Show, Attend and Tell: Neural Image Caption\", 'Generation with Visual Attention', 'Kelvin Xu?', 'Jimmy Lei Ba\\\\xe2\\\\x80\\\\xa0', 'Ryan Kiros\\\\xe2\\\\x80\\\\xa0']\n",
      "\n",
      "[\"b'Intrinsic3D: High-Quality 3D Reconstruction by Joint Appearance and\", 'Geometry Optimization with Spatially-Varying Lighting', '', 'arXiv:1708.01670v1 [cs.CV] 4 Aug 2017', '']\n",
      "\n",
      "[\"b'Deep Learning via Semi-Supervised Embedding\", 'Jason Weston1 , Fre\\\\xcc\\\\x81de\\\\xcc\\\\x81ric Ratle2 , Hossein Mobahi3 , and Ronan Collobert4', '', '??', '']\n",
      "\n",
      "[\"b'Learning to Rank Short Text Pairs with Convolutional Deep\", 'Neural Networks', 'Aliaksei Severyn\\\\xc3\\\\xa2\\\\xcb\\\\x86\\\\xe2\\\\x80\\\\x94', '', 'Alessandro Moschitti\\\\xc3\\\\xa2\\\\xe2\\\\x82\\\\xac\\\\xc2\\\\xa0']\n",
      "\n",
      "exception..\n",
      "['b\"396', '', 'Le Cun, Boser, Denker, Henderson, Howard, Hubbard and Jackel', '', 'Handwritten Digit Recognition with a']\n",
      "\n",
      "[\"b'A Neural Algorithm of Artistic Style\", 'arXiv:1508.06576v2 [cs.CV] 2 Sep 2015', '', 'Leon A. Gatys,1,2,3\\\\xe2\\\\x88\\\\x97 Alexander S. Ecker,1,2,4,5 Matthias Bethge1,2,4', '1']\n",
      "\n",
      "[\"b'Learning and Transferring Mid-Level Image Representations\", 'using Convolutional Neural Networks', 'Maxime Oquab1,\\\\xe2\\\\x88\\\\x97 Leon Bottou2', '1', '']\n",
      "\n",
      "[\"b'Deep Neural Networks Segment Neuronal\", 'Membranes in Electron Microscopy Images', '', 'Dan C. Cires\\\\xcc\\\\xa7an\\\\xe2\\\\x88\\\\x97', 'IDSIA']\n",
      "\n",
      "[\"b'Learning Deep Features for Scene Recognition\", 'using Places Database', 'Bolei Zhou1 , Agata Lapedriza1,3 , Jianxiong Xiao2 , Antonio Torralba1 , and Aude Oliva1', '1', '']\n",
      "\n",
      "[\"b'TensorFlow:\", 'Large-Scale Machine Learning on Heterogeneous Distributed Systems', '', 'arXiv:1603.04467v2 [cs.DC] 16 Mar 2016', '']\n",
      "\n",
      "[\"b'Learning hierarchical invariant spatio-temporal features for action recognition\", 'with independent subspace analysis', 'Quoc V. Le, Will Y. Zou, Serena Y. Yeung, Andrew Y. Ng', 'Computer Science Department and Department of Electrical Engineering, Stanford University', 'quocle@cs.stanford.edu, wzou@cs.stanford.edu, syyeung@stanford.edu, ang@cs.stanford.edu']\n",
      "\n",
      "[\"b'Fully Convolutional Networks for Semantic Segmentation\", 'Jonathan Long\\\\xe2\\\\x88\\\\x97', '', 'Evan Shelhamer\\\\xe2\\\\x88\\\\x97', 'UC Berkeley']\n",
      "\n",
      "[\"b'A Few Useful Things to Know about Machine Learning\", 'Pedro Domingos', 'Department of Computer Science and Engineering', 'University of Washington', 'Seattle, WA 98195-2350, U.S.A.']\n",
      "\n",
      "[\"b'Selective Search for Object Recognition\", 'J.R.R. Uijlings\\\\xe2\\\\x88\\\\x971,2 , K.E.A. van de Sande\\\\xe2\\\\x80\\\\xa02 , T. Gevers2 , and A.W.M. Smeulders2', '1 University', '2 University', '']\n",
      "\n",
      "[\"b'Rich feature hierarchies for accurate object detection and semantic segmentation\", 'Tech report (v5)', 'Ross Girshick Jeff Donahue Trevor Darrell Jitendra Malik', 'UC Berkeley', '']\n",
      "\n",
      "[\"b'Caffe: Convolutional Architecture\", 'for Fast Feature Embedding\\\\xe2\\\\x88\\\\x97', 'Yangqing Jia\\\\xe2\\\\x88\\\\x97 , Evan Shelhamer\\\\xe2\\\\x88\\\\x97 , Jeff Donahue, Sergey Karayev,', 'Jonathan Long, Ross Girshick, Sergio Guadarrama, Trevor Darrell', 'UC Berkeley EECS, Berkeley, CA 94702']\n",
      "\n",
      "[\"b'doi:10.1145/2001269 . 2 0 0 1 2 9 5\", '', 'Unsupervised Learning of', 'Hierarchical Representations', 'with Convolutional Deep']\n",
      "\n",
      "[\"b'Deep Neural Networks Segment Neuronal\", 'Membranes in Electron Microscopy Images', '', 'Dan C. Cires\\\\xcc\\\\xa7an\\\\xe2\\\\x88\\\\x97', 'IDSIA']\n",
      "\n",
      "[\"b'\\\\x0c\\\\x0c\\\\x0c\\\\x0c'\"]\n",
      "\n",
      "exception..\n",
      "exception..\n",
      "[\"b'See\\\\tdiscussions,\\\\tstats,\\\\tand\\\\tauthor\\\\tprofiles\\\\tfor\\\\tthis\\\\tpublication\\\\tat:\\\\thttps://www.researchgate.net/publication/283259046\", '', 'Sequential\\\\tDeep\\\\tLearning\\\\tfor\\\\tHuman\\\\tAction', 'Recognition', 'Conference\\\\tPaper\\\\t\\\\xc2\\\\xb7\\\\tNovember\\\\t2011']\n",
      "\n",
      "exception..\n",
      "[\"b'This paper has been submitted for publication on November 15, 2016.\", '', 'Learning from Simulated and Unsupervised Images through Adversarial', 'Training', 'Ashish Shrivastava, Tomas Pfister, Oncel Tuzel, Josh Susskind, Wenda Wang, Russ Webb']\n",
      "\n",
      "[\"b'\\\\x0cBuilding Machine Learning\", 'Systems with Python', 'Master the art of machine learning with Python and', 'build effective machine learning systems with this', 'intensive hands-on guide']\n",
      "\n",
      "[\"b'Sequence to Sequence Learning\", 'with Neural Networks', 'Ilya Sutskever', 'Google', 'ilyasu@google.com']\n",
      "\n",
      "[\"b'DEEP CONVOLUTIONAL NEURAL NETWORKS FOR LVCSR\", 'Tara N. Sainath1 , Abdel-rahman Mohamed2 , Brian Kingsbury1 , Bhuvana Ramabhadran1', '1', '', 'IBM T. J. Watson Research Center, Yorktown Heights, NY 10598, U.S.A.']\n",
      "\n",
      "[\"b'Deep Residual Learning for Image Recognition\", 'Kaiming He', '', 'Xiangyu Zhang', 'Shaoqing Ren']\n",
      "\n",
      "exception..\n",
      "[\"b'arXiv:1608.06993v4 [cs.CV] 27 Aug 2017\", '', 'Densely Connected Convolutional Networks', 'Gao Huang\\\\xe2\\\\x88\\\\x97', 'Cornell University']\n",
      "\n",
      "[\"b'Convolutional-Recursive Deep Learning\", 'for 3D Object Classification', '', 'Richard Socher, Brody Huval, Bharath Bhat, Christopher D. Manning, Andrew Y. Ng', 'Computer Science Department, Stanford University, Stanford, CA 94305, USA']\n",
      "\n",
      "[\"b'How transferable are features in deep neural\", 'networks?', 'Jason Yosinski,1 Jeff Clune,2 Yoshua Bengio,3 and Hod Lipson4', '1', 'Dept. Computer Science, Cornell University']\n",
      "\n",
      "[\"b'ARTICLE\", '', 'doi:10.1038/nature16961', '', 'Mastering the game of Go with deep']\n",
      "\n",
      "[\"b'Segmentation as Selective Search for Object Recognition\", 'Koen E. A. van de Sande\\\\xe2\\\\x88\\\\x97 Jasper R. R. Uijlings\\\\xe2\\\\x80\\\\xa0', '\\\\xe2\\\\x88\\\\x97', 'University of Amsterdam', 'Amsterdam, The Netherlands']\n",
      "\n",
      "[\"b'Conditional Random Fields as Recurrent Neural Networks\", 'Vibhav Vineet1,2\\\\xe2\\\\x80\\\\xa0', 'Shuai Zheng1* Sadeep Jayasumana1\\\\xe2\\\\x88\\\\x97 Bernardino Romera-Paredes1', 'Zhizhong Su3 Dalong Du3 Chang Huang3 Philip H. S. Torr1', '1']\n",
      "\n",
      "[\"b'EUROGRAPHICS 2016 / J. Jorge and M. Lin\", '(Guest Editors)', '', 'Volume 35 (2016), Number 2', '']\n",
      "\n",
      "[\"b'Learning to Compare Image Patches via Convolutional Neural Networks\", 'Sergey Zagoruyko', 'Universite Paris Est, Ecole des Ponts ParisTech', '', 'Nikos Komodakis']\n",
      "\n",
      "[\"b'Semi-automatic Training of an Object\", 'Recognition System in Scene Camera Data', 'Using Gaze Tracking and Accelerometers', 'Matteo Cognolato1,2(B) , Mara Graziani3 , Francesca Giordaniello3 ,', 'Gianluca Saetta4 , Franco Bassetto5 , Peter Brugger4 , Barbara Caputo3 ,']\n",
      "\n",
      "[\"b'Journal of Machine Learning Research 11 (2010) 3371-3408\", '', 'Submitted 5/10; Published 12/10', '', 'Stacked Denoising Autoencoders: Learning Useful Representations in']\n",
      "\n",
      "[\"b'Tiled convolutional neural networks\", 'Quoc V. Le, Jiquan Ngiam, Zhenghao Chen, Daniel Chia, Pang Wei Koh, Andrew Y. Ng', 'Computer Science Department, Stanford University', '{quocle,jngiam,zhenghao,danchia,pangwei,ang}@cs.stanford.edu', '']\n",
      "\n",
      "exception..\n",
      "exception..\n",
      "[\"b'Fully Convolutional Networks for Surface\", 'Defect Inspection in Industrial Environment', 'Zhiyang Yu1, Xiaojun Wu1,2(&), and Xiaodong Gu1', '1', '']\n",
      "\n",
      "[\"b'NEW TYPES OF DEEP NEURAL NETWORK LEARNING FOR SPEECH RECOGNITION\", 'AND RELATED APPLICATIONS: AN OVERVIEW', 'Li Deng1, Geoffrey Hinton2, and Brian Kingsbury3', '1', 'Microsoft Research, Redmond, WA, USA']\n",
      "\n",
      "[\"b'Convolutional Networks and Applications in Vision\", 'Yann LeCun, Koray Kavukcuoglu and Cle\\\\xcc\\\\x81ment Farabet', 'Computer Science Department, Courant Institute of Mathematical Sciences, New York University', '{yann,koray,cfarabet}@cs.nyu.edu', 'Abstract\\\\xe2\\\\x80\\\\x94 Intelligent tasks, such as visual perception, auditory']\n",
      "\n",
      "[\"b'Learning Deconvolution Network for Semantic Segmentation\", 'Hyeonwoo Noh', 'Seunghoon Hong', 'Bohyung Han', 'Department of Computer Science and Engineering, POSTECH, Korea']\n",
      "\n",
      "[\"b'\\\\x0c\\\\x0c\\\\x0c\\\\x0c\\\\x0c\\\\x0c\\\\x0c'\"]\n",
      "\n",
      "[\"b'Long-term Recurrent Convolutional Networks for\", 'Visual Recognition and Description', 'Jeff Donahue?', 'Lisa Anne Hendricks?', 'Sergio Guadarrama?']\n",
      "\n",
      "[\"b'Deep Neural Networks are Easily Fooled:\", 'High Confidence Predictions for Unrecognizable Images', 'Anh Nguyen', 'University of Wyoming', '']\n",
      "\n",
      "[\"b'Stochastic Gradient Descent Tricks\", 'Le\\\\xcc\\\\x81on Bottou', 'Microsoft Research, Redmond, WA', 'leon@bottou.org', 'http://leon.bottou.org']\n",
      "\n"
     ]
    }
   ],
   "source": [
    "for doc in pdf:\n",
    "    try:\n",
    "        p1 = textract.process(doc)\n",
    "    except:\n",
    "        print('exception..')\n",
    "        pass\n",
    "    p2 = str(p1)\n",
    "    p3 = p2.split('\\\\r\\\\n')\n",
    "    test = ''\n",
    "    for i in range(0,len(p3)):\n",
    "        test = test + p3[i]\n",
    "    if test in dup:\n",
    "        continue\n",
    "    dup.add(test)\n",
    "    print(p3[:5])\n",
    "    print()\n",
    "    i = 0\n",
    "    start = False\n",
    "    txt = []\n",
    "    for p in p3:\n",
    "        # w = [t for t in tokenizer.tokenize(p) if t.lower() not in stop_words]\n",
    "        w = keras.preprocessing.text.text_to_word_sequence(p)\n",
    "        if 'abstract' not in w and not start:\n",
    "            continue\n",
    "        if 'abstract' in w:\n",
    "            start = True\n",
    "            continue\n",
    "        if 'references' in w:\n",
    "            break\n",
    "        w1 = [v for v in w if not v.lower().startswith('x')]\n",
    "        if len(w1)<min_num_words:\n",
    "            continue\n",
    "        for word in w1:\n",
    "            txt.append(word)\n",
    "#         print(w1)\n",
    "        i = i +1\n",
    "        if i>1000:\n",
    "            break\n",
    "    if txt != []:\n",
    "        docs.append((label,txt))"
   ]
  },
  {
   "cell_type": "code",
   "execution_count": 18,
   "metadata": {
    "collapsed": false
   },
   "outputs": [
    {
     "name": "stdout",
     "output_type": "stream",
     "text": [
      "87\n"
     ]
    }
   ],
   "source": [
    "print(len(docs))"
   ]
  },
  {
   "cell_type": "markdown",
   "metadata": {},
   "source": [
    "Save the text and category as **pkl** file"
   ]
  },
  {
   "cell_type": "code",
   "execution_count": 19,
   "metadata": {
    "collapsed": false
   },
   "outputs": [],
   "source": [
    "import _pickle as pickle"
   ]
  },
  {
   "cell_type": "code",
   "execution_count": 20,
   "metadata": {
    "collapsed": false
   },
   "outputs": [],
   "source": [
    "pickle.dump(docs, open('cnn.pkl', 'wb'))"
   ]
  },
  {
   "cell_type": "code",
   "execution_count": null,
   "metadata": {
    "collapsed": true
   },
   "outputs": [],
   "source": []
  }
 ],
 "metadata": {
  "anaconda-cloud": {},
  "kernelspec": {
   "display_name": "Python [conda root]",
   "language": "python",
   "name": "conda-root-py"
  },
  "language_info": {
   "codemirror_mode": {
    "name": "ipython",
    "version": 3
   },
   "file_extension": ".py",
   "mimetype": "text/x-python",
   "name": "python",
   "nbconvert_exporter": "python",
   "pygments_lexer": "ipython3",
   "version": "3.5.2"
  }
 },
 "nbformat": 4,
 "nbformat_minor": 1
}
