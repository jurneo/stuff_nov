{
 "cells": [
  {
   "cell_type": "markdown",
   "metadata": {},
   "source": [
    "## Making Dataset - RNN Topics"
   ]
  },
  {
   "cell_type": "markdown",
   "metadata": {},
   "source": [
    "The text data source is from PDF documents which are mostly of conference and journal papers.\n",
    "\n",
    "I use several tools to extract the text from PDF. One package is called **textract**\n",
    "\n",
    "Some manual intervention (editing, and deletion) are involved as the extraction results are not ideal."
   ]
  },
  {
   "cell_type": "code",
   "execution_count": 1,
   "metadata": {},
   "outputs": [
    {
     "name": "stderr",
     "output_type": "stream",
     "text": [
      "Using TensorFlow backend.\n",
      "C:\\Users\\ku\\Anaconda3\\lib\\site-packages\\requests\\__init__.py:80: RequestsDependencyWarning: urllib3 (1.22) or chardet (2.3.0) doesn't match a supported version!\n",
      "  RequestsDependencyWarning)\n"
     ]
    }
   ],
   "source": [
    "import os\n",
    "import keras\n",
    "from keras.preprocessing import text\n",
    "import textract"
   ]
  },
  {
   "cell_type": "markdown",
   "metadata": {},
   "source": [
    "Below is one snapshot of the folder location where a list of PDF papers which are in one category are placed into.\n",
    "\n",
    "For this notebook, the category is for 'recurrent neural network'"
   ]
  },
  {
   "cell_type": "code",
   "execution_count": 2,
   "metadata": {
    "collapsed": true
   },
   "outputs": [],
   "source": [
    "#path = 'C:/Users/k/Documents/qiqqa/324534E5-7D3E-4DAC-B4E9-057A96B7AC62'\n",
    "path = 'D:/Documents/qiqqa/02CE4074-0A28-4C5C-84CE-5505482C9E7A'\n",
    "pdf = []\n",
    "for root, dr, fs in os.walk(path):\n",
    "    for f in fs:\n",
    "        if '.pdf' not in f:\n",
    "            continue\n",
    "        pdf.append(root + '/' + f)"
   ]
  },
  {
   "cell_type": "markdown",
   "metadata": {},
   "source": [
    "Following, we use combination of **nltk** stopwords and RegexpTokenizer to help remove unwanted characters. Keras text preprocessing is also used to split the texts into word sequences."
   ]
  },
  {
   "cell_type": "code",
   "execution_count": 3,
   "metadata": {
    "collapsed": true
   },
   "outputs": [],
   "source": [
    "# the snippet code from ref[1] -- see next notebook\n",
    "from nltk.corpus import stopwords\n",
    "from nltk.tokenize import RegexpTokenizer, sent_tokenize\n",
    "\n",
    "# Load stop-words\n",
    "stop_words = set(stopwords.words('english'))\n",
    "\n",
    "# Initialize tokenizer\n",
    "# It's also possible to try with a stemmer or to mix a stemmer and a lemmatizer\n",
    "tokenizer = RegexpTokenizer('[\\'a-zA-Z]+')"
   ]
  },
  {
   "cell_type": "code",
   "execution_count": 5,
   "metadata": {
    "collapsed": true
   },
   "outputs": [],
   "source": [
    "min_num_words = 5\n",
    "label = 'recurrent neural network'\n",
    "docs = []"
   ]
  },
  {
   "cell_type": "code",
   "execution_count": 6,
   "metadata": {
    "collapsed": true
   },
   "outputs": [],
   "source": [
    "# check if there is duplicate\n",
    "dup = set()"
   ]
  },
  {
   "cell_type": "code",
   "execution_count": 7,
   "metadata": {
    "collapsed": true
   },
   "outputs": [
    {
     "name": "stdout",
     "output_type": "stream",
     "text": [
      "[\"b'Simulation Modelling Practice and Theory 15 (2007) 1016\\\\xe2\\\\x80\\\\x931028\", 'www.elsevier.com/locate/simpat', '', 'A greenhouse control with feed-forward and recurrent', 'neural networks']\n",
      "\n",
      "[\"b'LETTER\", '', 'Communicated by Michael Cohen', '', 'Dynamical Behaviors of Delayed Neural Network Systems']\n",
      "\n",
      "[\"b'Joint Language and Translation Modeling with Recurrent Neural Networks\", 'Michael Auli, Michel Galley, Chris Quirk, Geoffrey Zweig', 'Microsoft Research', 'Redmond, WA, USA', '{michael.auli,mgalley,chrisq,gzweig}@microsoft.com']\n",
      "\n",
      "[\"b'University of Massachusetts - Amherst\", 'From the SelectedWorks of R. Manmatha', '', '2011', '']\n",
      "\n",
      "[\"b'See\\\\tdiscussions,\\\\tstats,\\\\tand\\\\tauthor\\\\tprofiles\\\\tfor\\\\tthis\\\\tpublication\\\\tat:\\\\thttps://www.researchgate.net/publication/221139120\", '', 'Contextual\\\\tBehaviors\\\\tand\\\\tInternal', 'Representations\\\\tAcquired\\\\tby\\\\tReinforcement', 'Learning\\\\twith\\\\ta\\\\tRecurrent\\\\tNeural\\\\tNetwork\\\\tin']\n",
      "\n",
      "[\"b'Investigation of Recurrent-Neural-Network Architectures and Learning\", 'Methods for Spoken Language Understanding', 'Gr\\\\xc3\\\\xa9goire Mesnil 1,3, Xiaodong He2, Li Deng,2 and Yoshua Bengio 1', '1', '2']\n",
      "\n",
      "[\"b'Neural Networks 50 (2014) 79\\\\xe2\\\\x80\\\\x9389\", '', 'Contents lists available at ScienceDirect', '', 'Neural Networks']\n",
      "\n",
      "[\"b'REVISITING RECURRENT NEURAL NETWORKS FOR ROBUST ASR\", 'Oriol Vinyals1,2 , Suman V. Ravuri1,2 , Daniel Povey3', '1', '', '2']\n",
      "\n",
      "[\"b'2022\", '', 'IEEE TRANSACTIONS ON NEURAL NETWORKS, VOL. 19, NO. 12, DECEMBER 2008', '', 'An Improved Dual Neural Network for Solving a']\n",
      "\n",
      "[\"b'LATTICE-BASED OPTIMIZATION OF SEQUENCE CLASSIFICATION CRITERIA\", 'FOR NEURAL-NETWORK ACOUSTIC MODELING', 'Brian Kingsbury', 'IBM T. J. Watson Research Center', 'Yorktown Heights, NY 10598, USA']\n",
      "\n",
      "[\"b'INTERSPEECH 2014\", '', 'Efficient GPU-based Training of Recurrent Neural', 'Network Language Models Using Spliced Sentence Bunch', 'X. Chen, Y. Wang, X. Liu, M.J.F. Gales and P. C. Woodland']\n",
      "\n",
      "[\"b'Scheduled Sampling for Sequence Prediction with\", 'Recurrent Neural Networks', 'Samy Bengio, Oriol Vinyals, Navdeep Jaitly, Noam Shazeer', 'Google Research', 'Mountain View, CA, USA']\n",
      "\n",
      "[\"b'Applied Mathematics and Computation 185 (2007) 1026\\\\xe2\\\\x80\\\\x931037\", 'www.elsevier.com/locate/amc', '', 'A hybrid particle swarm optimization\\\\xe2\\\\x80\\\\x93back-propagation', 'algorithm for feedforward neural network training']\n",
      "\n",
      "['b\"See\\\\tdiscussions,\\\\tstats,\\\\tand\\\\tauthor\\\\tprofiles\\\\tfor\\\\tthis\\\\tpublication\\\\tat:\\\\thttps://www.researchgate.net/publication/260389596', '', 'Failure\\\\tand\\\\tReliability\\\\tPredictions\\\\tby\\\\tInfinite', 'Impulse\\\\tResponse\\\\tLocally\\\\tRecurrent\\\\tNeural', 'Networks']\n",
      "\n",
      "[\"b'Context Dependent Recurrent Neural Network Language\", 'Model', 'Tomas Mikolov and Geoffrey Zweig', 'Microsoft Research Technical Report MSR-TR-2012-92', 'July 27th , 2012']\n",
      "\n",
      "[\"b'Learning Distributed Word Representations For\", 'Bidirectional LSTM Recurrent Neural Network\\\\xe2\\\\x88\\\\x97', 'Peilu Wang1,2\\\\xe2\\\\x80\\\\xa0, Yao Qian3 , Hai Zhao1\\\\xe2\\\\x80\\\\xa1, Frank K. Soong2 , Lei He2 , Ke Wu1', '1', 'Shanghai Jiao Tong University, Shanghai, China']\n",
      "\n",
      "[\"b'14\", '', 'IEEE TRANSACTIONS ON INDUSTRIAL ELECTRONICS, VOL. 54, NO. 1, FEBRUARY 2007', '', 'Neural Network Applications in Power Electronics']\n",
      "\n",
      "[\"b'IEEE TRANSACTIONS ON NEURAL NETWORKS, VOL. 17, NO. 6, NOVEMBER 2006\", '', '1487', '', 'Solving Pseudomonotone Variational Inequalities']\n",
      "\n",
      "[\"b'On the difficulty of training recurrent neural networks\", '', 'Razvan Pascanu', 'pascanur@iro.umontreal.ca', 'Universite\\\\xcc\\\\x81 de Montre\\\\xcc\\\\x81al, 2920, chemin de la Tour, Montre\\\\xcc\\\\x81al, Que\\\\xcc\\\\x81bec, Canada, H3T 1J8']\n",
      "\n",
      "[\"b'COMPARISON OF FEEDFORWARD AND RECURRENT\", 'NEURAL NETWORK LANGUAGE MODELS', 'M. Sundermeyer1 , I. Oparin2,\\\\xe2\\\\x88\\\\x97 , J.-L. Gauvain2 , B. Freiberg1 , R. Schlu\\\\xcc\\\\x88ter1 , H. Ney1,2', '1', '']\n",
      "\n",
      "[\"b'Fast and Robust Neural Network Joint Models for Statistical Machine\", 'Translation', 'Jacob Devlin, Rabih Zbib, Zhongqiang Huang,', 'Thomas Lamar, Richard Schwartz, and John Makhoul', 'Raytheon BBN Technologies, 10 Moulton St, Cambridge, MA 02138, USA']\n",
      "\n",
      "[\"b'2014 IEEE International Conference on Acoustic, Speech and Signal Processing (ICASSP)\", '', 'ASR ERROR DETECTION USING RECURRENT NEURAL NETWORK LANGUAGE MODEL', 'AND COMPLEMENTARY ASR', 'Yik-Cheung Tam, Yun Lei, Jing Zheng and Wen Wang']\n",
      "\n",
      "[\"b'In Proceedings of the International Conference on Intelligent Robotics and Systems (IROS 2006)\", '', 'A System for Robotic Heart Surgery that Learns to', 'Tie Knots Using Recurrent Neural Networks', 'Hermann Mayer1 , Faustino Gomez2, Daan Wierstra2 , Istvan Nagy1 , Alois Knoll1 , and Ju\\\\xcc\\\\x88rgen Schmidhuber1,2']\n",
      "\n",
      "['b\"This article appeared in a journal published by Elsevier. The attached', 'copy is furnished to the author for internal non-commercial research', 'and education use, including for instruction at the authors institution', 'and sharing with colleagues.', 'Other uses, including reproduction and distribution, or selling or']\n",
      "\n",
      "[\"b'Expert Systems with Applications 38 (2011) 13475\\\\xe2\\\\x80\\\\x9313481\", '', 'Contents lists available at ScienceDirect', '', 'Expert Systems with Applications']\n",
      "\n",
      "[\"b'See\\\\tdiscussions,\\\\tstats,\\\\tand\\\\tauthor\\\\tprofiles\\\\tfor\\\\tthis\\\\tpublication\\\\tat:\\\\thttps://www.researchgate.net/publication/5384898\", '', 'Stability\\\\tand\\\\tHopf\\\\tBifurcation\\\\tof\\\\ta\\\\tGeneral', 'Delayed\\\\tRecurrent\\\\tNeural\\\\tNetwork', 'Article\\\\t\\\\tin\\\\t\\\\tIEEE\\\\tTransactions\\\\ton\\\\tNeural\\\\tNetworks\\\\t\\\\xc2\\\\xb7\\\\tJune\\\\t2008']\n",
      "\n",
      "[\"b'PROTEINS: Structure, Function, and Bioinformatics 65:40\\\\xe2\\\\x80\\\\x9348 (2006)\", '', 'SHORT COMMUNICATION', 'Prediction of Continuous B-Cell Epitopes in an Antigen', 'Using Recurrent Neural Network']\n",
      "\n",
      "[\"b'COMPARISON OF A RECURRENT NEURAL NETWORK PV SYSTEM MODEL WITH A\", 'TRADITIONAL COMPONENT-BASED PV SYSTEM MODEL', '1', '', '2']\n",
      "\n",
      "[\"b'This is the Pre-Published Version.\", '', 'International Journal of Environment and Pollution, Vol. 28, No. 3-4, 2006, pp. 223-238', 'NEURAL NETWORK AND GENETIC PROGRAMMING FOR MODELLING', 'COASTAL ALGAL BLOOMS']\n",
      "\n",
      "[\"b'An Adaptive Recurrent Neural-Network Controller\", 'using a Stabilization Matrix and Predictive Inputs to', 'Solve a Tracking Problem under Disturbances\\\\xe2\\\\x9c\\\\xa9', 'Michael Fairbanka , Shuhui Lib , Xingang Fub , Eduardo Alonsoa , Donald', 'Wunschc']\n",
      "\n",
      "[\"b'Cooperative Coevolution of Elman Recurrent Neural Networks for Chaotic Time\", 'Series Prediction', 'Rohitash Chandra and Mengjie Zhang', 'School of Engineering and Computer Science, Victoria University of Wellington, Wellington, New Zealand', '']\n",
      "\n",
      "[\"b'This is the Pre-Published Version.\", 'International Journal of Environment and Pollution, Vol. 28, No. 3-4,', '2006, pp. 364-381', '', 'A hybrid adaptive time-delay neural network model for']\n",
      "\n",
      "[\"b'NAACL HLT 2015\", '', 'The 1st Workshop on Vector Space', 'Modeling for Natural Language', 'Processing (in NAACL 2015)']\n",
      "\n",
      "[\"b'Published as a conference paper at ICLR 2015\", '', 'D EEP C APTIONING WITH M ULTIMODAL R ECURRENT', 'N EURAL N ETWORKS ( M -RNN)', '']\n",
      "\n",
      "[\"b'Unconstrained Online Handwriting Recognition with\", 'Recurrent Neural Networks', 'Alex Graves', 'TUM, Germany', 'alex@idsia.ch']\n",
      "\n",
      "[\"b'Knowledge-Powered Deep Learning for Word\", 'Embedding', 'Jiang Bian, Bin Gao, and Tie-Yan Liu', 'Microsoft Research', '{jibian,bingao,tyliu}@microsoft.com']\n",
      "\n",
      "[\"b'1\", '', 'REVISED', '', 'A Delay-Dependent LMI Approach to Dynamics']\n",
      "\n",
      "[\"b'INTERSPEECH 2014\", '', 'TTS Synthesis with Bidirectional LSTM based', 'Recurrent Neural Networks', 'Yuchen Fan 1,2*, Yao Qian2, Fenglong Xie2, Frank K. Soong2']\n",
      "\n",
      "[\"b'UNIDIRECTIONAL LONG SHORT-TERM MEMORY RECURRENT NEURAL NETWORK\", 'WITH RECURRENT OUTPUT LAYER FOR LOW-LATENCY SPEECH SYNTHESIS', 'Heiga Zen, Has\\\\xcc\\\\xa7im Sak', 'Google', 'fheigazen,hasimg@google.com']\n",
      "\n",
      "[\"b'See\\\\tdiscussions,\\\\tstats,\\\\tand\\\\tauthor\\\\tprofiles\\\\tfor\\\\tthis\\\\tpublication\\\\tat:\\\\thttps://www.researchgate.net/publication/262148076\", '', 'Global\\\\tStability\\\\tof\\\\tComplex-Valued\\\\tRecurrent', 'Neural\\\\tNetworks\\\\tWith\\\\tTime-Delays', 'Article\\\\t\\\\tin\\\\t\\\\tIEEE\\\\tTransactions\\\\ton\\\\tNeural\\\\tNetworks\\\\tand\\\\tLearning\\\\tSystems\\\\t\\\\xc2\\\\xb7\\\\tJune\\\\t2012']\n",
      "\n",
      "[\"b'310\", '', 'IEEE TRANSACTIONS ON NEURAL NETWORKS AND LEARNING SYSTEMS, VOL. 24, NO. 2, FEBRUARY 2013', '', 'Identification and Prediction of Dynamic Systems']\n",
      "\n"
     ]
    },
    {
     "name": "stdout",
     "output_type": "stream",
     "text": [
      "[\"b'Psychological Review\", '2006, Vol. 113, No. 2, 201\\\\xe2\\\\x80\\\\x93233', '', 'Copyright 2006 by the American Psychological Association', '0033-295X/06/$12.00 DOI: 10.1037/0033-295X.113.2.201']\n",
      "\n",
      "[\"b'See\\\\tdiscussions,\\\\tstats,\\\\tand\\\\tauthor\\\\tprofiles\\\\tfor\\\\tthis\\\\tpublication\\\\tat:\\\\thttps://www.researchgate.net/publication/236035223\", '', 'Recurrent\\\\tneural\\\\tnetwork-based\\\\tcontrol', 'strategy\\\\tfor\\\\tbattery\\\\tenergy\\\\tstorage\\\\tin', 'generation\\\\tsystems\\\\twith\\\\tintermittent']\n",
      "\n",
      "[\"b'Proc. of the 15th Int. Conference on Digital Audio Effects (DAFx-12), York, UK , September 17-21, 2012\", '', 'ONLINE REAL-TIME ONSET DETECTION WITH RECURRENT NEURAL NETWORKS', 'Sebastian B\\\\xc3\\\\xb6ck, Andreas Arzt, Florian Krebs, Markus Schedl', 'Department of Computational Perception']\n",
      "\n",
      "[\"b'INTERSPEECH 2014\", '', 'Long Short-Term Memory Recurrent Neural Network Architectures', 'for Large Scale Acoustic Modeling', 'Has\\\\xcc\\\\xa7im Sak, Andrew Senior, Franc\\\\xcc\\\\xa7oise Beaufays']\n",
      "\n",
      "[\"b'Not All Contexts Are Created Equal:\", 'Better Word Representations with Variable Attention', 'Wang Ling Lin Chu-Cheng Yulia Tsvetkov Silvio Amir', 'Ramo\\\\xcc\\\\x81n Fernandez Astudillo Chris Dyer Alan W Black Isabel Trancoso', 'L2 F Spoken Systems Lab, INESC-ID, Lisbon, Portugal']\n",
      "\n",
      "[\"b'Reservoir Computing Approaches to Recurrent Neural Network Training\", 'Mantas Lukos\\\\xcc\\\\x8cevic\\\\xcc\\\\x8cius\\\\xe2\\\\x88\\\\x97, Herbert Jaeger', 'School of Engineering and Science, Jacobs University Bremen gGmbH, P.O. Box 750 561, 28725 Bremen, Germany', '', 'Abstract']\n",
      "\n",
      "[\"b'See\\\\tdiscussions,\\\\tstats,\\\\tand\\\\tauthor\\\\tprofiles\\\\tfor\\\\tthis\\\\tpublication\\\\tat:\\\\thttps://www.researchgate.net/publication/224348188\", '', 'From\\\\tZhang\\\\tNeural\\\\tNetwork\\\\tto\\\\tNewton', 'Iteration\\\\tfor\\\\tMatrix\\\\tInversion', 'Article\\\\t\\\\tin\\\\t\\\\tCircuits\\\\tand\\\\tSystems\\\\tI:\\\\tRegular\\\\tPapers,\\\\tIEEE\\\\tTransactions\\\\ton\\\\t\\\\xc3\\\\x82\\\\xcb\\\\x87\\\\tAugust\\\\t2009']\n",
      "\n",
      "[\"b'Journal of Machine Learning Research 16 (2015) 547-551\", '', 'Submitted 7/13; Published 3/15', '', 'Introducing CURRENNT: The Munich Open-Source']\n",
      "\n",
      "[\"b'Opinion Mining with\", 'Deep Recurrent Neural Networks', 'Ozan I\\\\xcc\\\\x87rsoy and Claire Cardie', 'Department of Computer Science', 'Cornell University']\n",
      "\n",
      "[\"b'MLP and Elman Recurrent Neural Network\", 'Modelling for the TRMS', 'S. F. Toha1 and M. O. Tokhi', 'Department of Automatic Control and Systems Engineering,', 'The University of Sheffield, UK']\n",
      "\n",
      "[\"b'Co-learning of Word Representations and Morpheme Representations\", 'Siyu Qiu', 'Nankai University', 'Tianjin, 300071, China', 'ppqq2356@gmail.com']\n",
      "\n",
      "[\"b'Connectionist Temporal Classification: Labelling Unsegmented\", 'Sequence Data with Recurrent Neural Networks', '', 'Alex Graves1', 'alex@idsia.ch']\n",
      "\n",
      "[\"b'1089\", '', 'RF Power Amplifier Behavioral Modeling using a Globally Recurrent', 'Neural Network', 'Bill O\\\\xe2\\\\x80\\\\x99Brien, John Dooley, and Thomas J. Brazil']\n",
      "\n",
      "[\"b'IEEE TRANSACTIONS ON NEURAL NETWORKS AND LEARNING SYSTEMS, VOL. 23, NO. 1, JANUARY 2012\", '', '87', '', 'Robustness Analysis of Global Exponential Stability']\n",
      "\n",
      "[\"b'The 14th International Conference on Intelligent System Applications to Power Systems, ISAP 2007\", '', 'November 4 - 8, 2007, Kaohsiung, Taiwan', '', 'Application of Neural Network to One-Day-Ahead']\n",
      "\n",
      "[\"b'Hierarchical Neural Network Generative Models for Movie Dialogues\", 'Iulian V. Serban1 , Alessandro Sordoni1 , Yoshua Bengio1,3 , Aaron Courville1 and Joelle Pineau2', '', 'arXiv:1507.04808v1 [cs.CL] 17 Jul 2015', '']\n",
      "\n",
      "[\"b'Show, Attend and Tell: Neural Image Caption\", 'Generation with Visual Attention', 'Kelvin Xu?', 'Jimmy Lei Ba\\\\xe2\\\\x80\\\\xa0', 'Ryan Kiros\\\\xe2\\\\x80\\\\xa0']\n",
      "\n",
      "[\"b'A Long Short-Term Memory Model for Answer Sentence Selection in\", 'Question Answering', 'Di Wang and Eric Nyberg', 'Language Technologies Institute', 'Carnegie Mellon University']\n",
      "\n",
      "[\"b'Training and Analyzing Deep Recurrent Neural\", 'Networks', 'Michiel Hermans, Benjamin Schrauwen', 'Ghent University, ELIS departement', 'Sint Pietersnieuwstraat 41,']\n",
      "\n",
      "[\"b'Recurrent Neural Networks for Language Understanding\", 'Kaisheng Yao1 , Geoffrey Zweig2 , Mei-Yuh Hwang1 , Yangyang Shi3 , and Dong Yu2', '1', '', 'Online Services Division, Microsoft, China']\n",
      "\n",
      "[\"b'RECURRENT NEURAL NETWORK FEATURE ENHANCEMENT:\", 'THE 2nd CHIME CHALLENGE', 'Andrew L. Maas, Tyler M. O\\\\xe2\\\\x80\\\\x99Neil, Awni Y. Hannun, Andrew Y. Ng', 'Stanford University, Computer Science Department, 353 Serra Mall, Stanford, CA 94305, USA', '[amaas, toneil, awni, ang]@cs.stanford.edu']\n",
      "\n",
      "[\"b'See\\\\tdiscussions,\\\\tstats,\\\\tand\\\\tauthor\\\\tprofiles\\\\tfor\\\\tthis\\\\tpublication\\\\tat:\\\\thttps://www.researchgate.net/publication/261567129\", '', 'A\\\\tRecurrent\\\\tNeural\\\\tNetwork\\\\tfor\\\\tSolving\\\\tBilevel', 'Linear\\\\tProgramming\\\\tProblem', 'Article\\\\t\\\\tin\\\\t\\\\tIEEE\\\\tTransactions\\\\ton\\\\tNeural\\\\tNetworks\\\\tand\\\\tLearning\\\\tSystems\\\\t\\\\xc3\\\\x82\\\\xcb\\\\x87\\\\tApril\\\\t2014']\n",
      "\n",
      "[\"b'Generating Text with Recurrent Neural Networks\", '', 'Ilya Sutskever', 'James Martens', 'Geoffrey Hinton']\n",
      "\n",
      "[\"b'MITSUBISHI ELECTRIC RESEARCH LABORATORIES\", 'http://www.merl.com', '', 'The MERL/MELCO/TUM System for the', 'REVERB Challenge Using Deep Recurrent']\n",
      "\n",
      "[\"b'Nonlinear System Identification for Predictive\", 'Control using Continuous Time Recurrent', 'Neural Networks and Automatic', 'Differentiation.', 'R K Al Seyab']\n",
      "\n",
      "[\"b'See\\\\tdiscussions,\\\\tstats,\\\\tand\\\\tauthor\\\\tprofiles\\\\tfor\\\\tthis\\\\tpublication\\\\tat:\\\\thttps://www.researchgate.net/publication/224400354\", '', 'PID-Like\\\\tNeural\\\\tNetwork\\\\tNonlinear\\\\tAdaptive', 'Control\\\\tfor\\\\tUncertain\\\\tMultivariable\\\\tMotion', 'Control\\\\tSystems']\n",
      "\n",
      "['b\"See\\\\tdiscussions,\\\\tstats,\\\\tand\\\\tauthor\\\\tprofiles\\\\tfor\\\\tthis\\\\tpublication\\\\tat:\\\\thttps://www.researchgate.net/publication/266262165', '', 'Auto-regressive\\\\tRecurrent\\\\tNeural\\\\tNetwork', 'Approach\\\\tfor\\\\tElectricity\\\\tLoad\\\\tForecasting', 'Article\\\\t\\\\xc2\\\\xb7\\\\tJanuary\\\\t2006']\n",
      "\n",
      "[\"b'See\\\\tdiscussions,\\\\tstats,\\\\tand\\\\tauthor\\\\tprofiles\\\\tfor\\\\tthis\\\\tpublication\\\\tat:\\\\thttps://www.researchgate.net/publication/262353983\", '', 'Enhanced\\\\tprobabilistic\\\\tneural\\\\tnetwork\\\\twith', 'local\\\\tdecision\\\\tcircles:\\\\tA\\\\trobust\\\\tclassifier', 'Article\\\\t\\\\tin\\\\t\\\\tIntegrated\\\\tComputer\\\\tAided\\\\tEngineering\\\\t\\\\xc2\\\\xb7\\\\tAugust\\\\t2010']\n",
      "\n",
      "[\"b'Reconstruction of Gene Regulatory Networks\", 'from Gene Expression Data Using Decoupled', 'Recurrent Neural Network Model', 'Nasimul Noman, Leon Palafox, and Hitoshi Iba', 'Graduate School of Information Science and Technology,']\n",
      "\n",
      "[\"b'IEEE TRANSACTIONS ON INDUSTRIAL ELECTRONICS, VOL. 59, NO. 8, AUGUST 2012\", '', '3089', '', 'Model Predictive Control of Unknown Nonlinear']\n",
      "\n",
      "[\"b'IEEE TRANSACTIONS ON INDUSTRIAL ELECTRONICS, VOL. 56, NO. 5, MAY 2009\", '', '1557', '', 'Recurrent Functional-Link-Based']\n",
      "\n",
      "[\"b'Neural Networks 26 (2012) 99\\\\xc3\\\\xa2\\\\xc2\\\\x80\\\\xc2\\\\x93109\", '', 'Contents lists available at SciVerse ScienceDirect', '', 'Neural Networks']\n",
      "\n",
      "[\"b'Applied Mathematics and Computation 175 (2006) 1139\\\\xe2\\\\x80\\\\x931146\", '', 'www.elsevier.com/locate/amc', '', 'Recurrent neural network for dynamic']\n",
      "\n",
      "[\"b'Learning Recurrent Neural Networks with Hessian-Free Optimization\", '', 'James Martens', 'Ilya Sutskever', 'University of Toronto, Canada']\n",
      "\n",
      "[\"b'Expert Systems with Applications 36 (2009) 3465\\\\xe2\\\\x80\\\\x933469\", '', 'Contents lists available at ScienceDirect', '', 'Expert Systems with Applications']\n",
      "\n",
      "['b\"ISCA Archive', 'http://www.isca-speech.org/archive', '', 'INTERSPEECH 2012', \"ISCA's 13th Annual Conference\"]\n",
      "\n",
      "['b\"INTERSPEECH 2014', '', 'Sequence Discriminative Distributed Training of Long Short-Term Memory', 'Recurrent Neural Networks', 'Has\\\\xc4\\\\x9a\\\\xc2\\\\xa7im Sak, Oriol Vinyals, Georg Heigold']\n",
      "\n",
      "[\"b'REVIEWS\", '', 'State-dependent computations:', 'spatiotemporal processing in', 'cortical networks']\n",
      "\n",
      "exception..\n",
      "[\"b'LETTER\", '', 'Communicated by Simon Haykin', '', 'An Augmented Extended Kalman Filter Algorithm for']\n",
      "\n",
      "[\"b'See\\\\tdiscussions,\\\\tstats,\\\\tand\\\\tauthor\\\\tprofiles\\\\tfor\\\\tthis\\\\tpublication\\\\tat:\\\\thttps://www.researchgate.net/publication/241637478\", '', 'Strategies\\\\tfor\\\\ttraining\\\\tlarge\\\\tscale\\\\tneural\\\\tnetwork', 'language\\\\tmodels', 'Article\\\\t\\\\xc2\\\\xb7\\\\tDecember\\\\t2011']\n",
      "\n",
      "[\"b'Non-lexical neural architecture for fine-grained POS Tagging\", 'Matthieu Labeau, Kevin Lo\\\\xcc\\\\x88ser, Alexandre Allauzen', 'Universite\\\\xcc\\\\x81 Paris-Sud and LIMSI-CNRS,', 'Rue John von Neumann', '91403 Orsay cedex']\n",
      "\n"
     ]
    },
    {
     "name": "stdout",
     "output_type": "stream",
     "text": [
      "[\"b'WCCI 2010 IEEE World Congress on Computational Intelligence\", 'July, 18-23, 2010 - CCIB, Barcelona, Spain', '', 'IJCNN', '']\n",
      "\n",
      "[\"b'A Multiplicative Model for Learning Distributed\", 'Text-Based Attribute Representations', '', 'Ryan Kiros, Richard S. Zemel, Ruslan Salakhutdinov', 'University of Toronto']\n",
      "\n",
      "[\"b'Sequence to Sequence Learning\", 'with Neural Networks', 'Ilya Sutskever', 'Google', 'ilyasu@google.com']\n",
      "\n",
      "[\"b'INTERSPEECH 2011\", '', 'Recurrent Neural Network based Language Modeling in Meeting Recognition', 'Stefan Kombrink, Toma\\\\xcc\\\\x81s\\\\xcc\\\\x8c Mikolov, Martin Karafia\\\\xcc\\\\x81t, Luka\\\\xcc\\\\x81s\\\\xcc\\\\x8c Burget', 'Speech@FIT, Brno University of Technology, Brno, Czech Republic']\n",
      "\n",
      "[\"b'Offline Handwriting Recognition with\", 'Multidimensional Recurrent Neural Networks', 'Alex Graves', 'TU Munich, Germany', 'graves@in.tum.de']\n",
      "\n",
      "[\"b'1092\", '', 'IEEE TRANSACTIONS ON FUZZY SYSTEMS, VOL. 17, NO. 5, OCTOBER 2009', '', 'A Recurrent Self-Evolving Interval Type-2 Fuzzy']\n",
      "\n",
      "[\"b'IEEE TRANSACTIONS ON ENERGY CONVERSION, VOL. 21, NO. 1, MARCH 2006\", '', '273', '', 'Long-Term Wind Speed and Power Forecasting Using']\n",
      "\n",
      "['b\"Hierarchical Recurrent Neural Network for Skeleton Based Action Recognition', 'Yong Du, Wei Wang, Liang Wang', 'Center for Research on Intelligent Perception and Computing, CRIPAC', 'Nat\\\\xc3\\\\xa2\\\\xc2\\\\x80\\\\xc2\\\\x99l Lab of Pattern Recognition, Institute of Automation, Chinese Academy of Sciences', '{yong.du, wangwei, wangliang}@nlpr.ia.ac.cn']\n",
      "\n",
      "[\"b'IEEE TRANSACTIONS ON NEURAL NETWORKS, VOL. 19, NO. 5, MAY 2008\", '', '855', '', 'Global Asymptotic Stability of Recurrent Neural']\n",
      "\n",
      "[\"b'1340\", '', 'IEEE TRANSACTIONS ON NEURAL NETWORKS, VOL. 19, NO. 8, AUGUST 2008', '', 'A Novel Recurrent Neural Network for Solving']\n",
      "\n",
      "[\"b'558\", '', 'IEEE TRANSACTIONS ON NEURAL NETWORKS, VOL. 19, NO. 4, APRIL 2008', '', 'A One-Layer Recurrent Neural Network With']\n",
      "\n",
      "[\"b'1892\", '', 'IEEE TRANSACTIONS ON NEURAL NETWORKS, VOL. 22, NO. 12, DECEMBER 2011', '', 'A One-Layer Recurrent Neural Network for']\n",
      "\n",
      "[\"b'Information Sciences 183 (2012) 106\\\\xe2\\\\x80\\\\x93116\", '', 'Contents lists available at SciVerse ScienceDirect', '', 'Information Sciences']\n",
      "\n",
      "['b\"Predicting Polarities of Tweets by Composing Word Embeddings with', 'Long Short-Term Memory', 'Xin Wang1 , Yuanchao Liu1 , Chengjie Sun1 , Baoxun Wang2 and Xiaolong Wang1', '1', 'School of Computer Science and Technology,']\n",
      "\n",
      "[\"b'An application of recurrent neural networks to\", 'discriminative keyword spotting', 'Santiago Ferna\\\\xcc\\\\x81ndez1 , Alex Graves1 , and Ju\\\\xcc\\\\x88rgen Schmidhuber1,2', '1', '']\n",
      "\n",
      "[\"b'Recurrent Neural Networks for Noise Reduction in Robust ASR\", 'Andrew L. Maas1 , Quoc V. Le1 , Tyler M. O\\\\xe2\\\\x80\\\\x99Neil1 , Oriol Vinyals2 , Patrick Nguyen3 , Andrew Y. Ng1', '1', '', '2']\n",
      "\n",
      "[\"b'REVISED TO PLA WITH BI08050039\", '', '1', '', 'Exponential Stability of Delayed Recurrent Neural']\n",
      "\n",
      "[\"b'High-level Feature Representation using Recurrent Neural Network\", 'for Speech Emotion Recognition', 'Jinkyu Lee1 and Ivan Tashev2', '1', '']\n",
      "\n",
      "[\"b'\\\\x0c\\\\x0c\\\\x0c\\\\x0c\\\\x0c\\\\x0c\\\\x0c\\\\x0c\\\\x0c\\\\x0c\\\\x0c\\\\x0c\\\\x0c\\\\x0c\\\\x0c\\\\x0c\\\\x0c'\"]\n",
      "\n",
      "[\"b'Training Second-Order Recurrent Neural Networks using Hints\", '', 'Christian W. Omlin', '', 'Computer Science Department']\n",
      "\n",
      "[\"b'NEW TYPES OF DEEP NEURAL NETWORK LEARNING FOR SPEECH RECOGNITION\", 'AND RELATED APPLICATIONS: AN OVERVIEW', 'Li Deng1, Geoffrey Hinton2, and Brian Kingsbury3', '1', 'Microsoft Research, Redmond, WA, USA']\n",
      "\n",
      "['b\"This article appeared in a journal published by Elsevier. The attached', 'copy is furnished to the author for internal non-commercial research', 'and education use, including for instruction at the authors institution', 'and sharing with colleagues.', 'Other uses, including reproduction and distribution, or selling or']\n",
      "\n",
      "[\"b'nd\", '', 'Recknagel, F., 2006. Ecological Informatics. 2 Edition. Springer-Verlag. New York , 1-496.', '', 'Chapter 12']\n",
      "\n",
      "[\"b'Conditional Random Fields as Recurrent Neural Networks\", 'Shuai Zheng\\\\xe2\\\\x88\\\\x971 , Sadeep Jayasumana*1 , Bernardino Romera-Paredes1 , Vibhav Vineet\\\\xe2\\\\x80\\\\xa01,2 , Zhizhong Su3 ,', 'Dalong Du3 , Chang Huang3 , and Philip H. S. Torr1', '1', '']\n",
      "\n",
      "[\"b'1500\", '', 'IEEE TRANSACTIONS ON NEURAL NETWORKS, VOL. 17, NO. 6, NOVEMBER 2006', '', 'A Simplified Dual Neural Network for Quadratic']\n",
      "\n",
      "[\"b'WORD EMBEDDING FOR RECURRENT NEURAL NETWORK BASED TTS SYNTHESIS\", 'Peilu Wang1,2\\\\xe2\\\\x88\\\\x97', '', 'Yao Qian2', '']\n",
      "\n",
      "[\"b'LSTM Neural Networks for Language Modeling\", 'Martin Sundermeyer, Ralf Schlu\\\\xcc\\\\x88ter, and Hermann Ney', 'Human Language Technology and Pattern Recognition, Computer', 'Science Department, RWTH Aachen University, Aachen, Germany', '{sundermeyer,schlueter,ney}@cs.rwth-aachen.de']\n",
      "\n",
      "[\"b'1\", '', 'REVISED TO PLA', '', 'Discrete-Time Recurrent Neural']\n",
      "\n",
      "[\"b'Evolutionary Multi-Objective Generation of Recurrent\", 'Neural Network Ensembles for Time Series Prediction', 'Christopher Smitha , Yaochu Jina,\\\\xc3\\\\xa2\\\\xc2\\\\x88\\\\xc2\\\\x97', 'a Department', '']\n",
      "\n",
      "['b\"Towards End-to-End Speech Recognition', 'with Recurrent Neural Networks', 'Alex Graves', 'Google DeepMind, London, United Kingdom', '']\n",
      "\n",
      "[\"b'See\\\\tdiscussions,\\\\tstats,\\\\tand\\\\tauthor\\\\tprofiles\\\\tfor\\\\tthis\\\\tpublication\\\\tat:\\\\thttps://www.researchgate.net/publication/224358896\", '', 'Recurrent\\\\tneural\\\\tnetworks\\\\tfor\\\\tremaining\\\\tuseful', 'life\\\\testimation', 'Conference\\\\tPaper\\\\t\\\\xc2\\\\xb7\\\\tNovember\\\\t2008']\n",
      "\n"
     ]
    }
   ],
   "source": [
    "for doc in pdf:\n",
    "    try:\n",
    "        p1 = textract.process(doc)\n",
    "    except:\n",
    "        print('exception..')\n",
    "        pass\n",
    "    p2 = str(p1)\n",
    "    p3 = p2.split('\\\\r\\\\n')\n",
    "    test = ''\n",
    "    for i in range(0,len(p3)):\n",
    "        test = test + p3[i]\n",
    "    if test in dup:\n",
    "        continue\n",
    "    dup.add(test)\n",
    "    print(p3[:5])\n",
    "    print()\n",
    "    i = 0\n",
    "    start = False\n",
    "    txt = []\n",
    "    for p in p3:\n",
    "        # w = [t for t in tokenizer.tokenize(p) if t.lower() not in stop_words]\n",
    "        w = keras.preprocessing.text.text_to_word_sequence(p)\n",
    "        if 'abstract' not in w and not start:\n",
    "            continue\n",
    "        if 'abstract' in w:\n",
    "            start = True\n",
    "            continue\n",
    "        if 'references' in w:\n",
    "            break\n",
    "        w1 = [v for v in w if not v.lower().startswith('x')]\n",
    "        if len(w1)<min_num_words:\n",
    "            continue\n",
    "        for word in w1:\n",
    "            txt.append(word)\n",
    "#         print(w1)\n",
    "        i = i +1\n",
    "        if i>1000:\n",
    "            break\n",
    "    if txt != []:\n",
    "        docs.append((label,txt))"
   ]
  },
  {
   "cell_type": "code",
   "execution_count": 8,
   "metadata": {},
   "outputs": [
    {
     "name": "stdout",
     "output_type": "stream",
     "text": [
      "104\n"
     ]
    }
   ],
   "source": [
    "print(len(docs))"
   ]
  },
  {
   "cell_type": "markdown",
   "metadata": {},
   "source": [
    "Save the text and category as **pkl** file"
   ]
  },
  {
   "cell_type": "code",
   "execution_count": 9,
   "metadata": {
    "collapsed": true
   },
   "outputs": [],
   "source": [
    "import _pickle as pickle"
   ]
  },
  {
   "cell_type": "code",
   "execution_count": 10,
   "metadata": {
    "collapsed": true
   },
   "outputs": [],
   "source": [
    "pickle.dump(docs, open('rnn.pkl', 'wb'))"
   ]
  }
 ],
 "metadata": {
  "anaconda-cloud": {},
  "kernelspec": {
   "display_name": "Python 3",
   "language": "python",
   "name": "python3"
  },
  "language_info": {
   "codemirror_mode": {
    "name": "ipython",
    "version": 3
   },
   "file_extension": ".py",
   "mimetype": "text/x-python",
   "name": "python",
   "nbconvert_exporter": "python",
   "pygments_lexer": "ipython3",
   "version": "3.6.3"
  }
 },
 "nbformat": 4,
 "nbformat_minor": 1
}
