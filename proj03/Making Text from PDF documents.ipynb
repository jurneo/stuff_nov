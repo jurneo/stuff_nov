{
 "cells": [
  {
   "cell_type": "markdown",
   "metadata": {},
   "source": [
    "## Text extraction and preparation"
   ]
  },
  {
   "cell_type": "markdown",
   "metadata": {},
   "source": [
    "The text data source is from PDF documents which are mostly of conference and journal papers.\n",
    "\n",
    "I use several tools to extract the text from PDF. One package is called **textract**\n",
    "\n",
    "Some manual intervention (editing, and deletion) are involved as the extraction results are not ideal."
   ]
  },
  {
   "cell_type": "code",
   "execution_count": 1,
   "metadata": {
    "collapsed": false
   },
   "outputs": [
    {
     "name": "stderr",
     "output_type": "stream",
     "text": [
      "Using TensorFlow backend.\n"
     ]
    }
   ],
   "source": [
    "import os\n",
    "import keras\n",
    "from keras.preprocessing import text\n",
    "import textract"
   ]
  },
  {
   "cell_type": "markdown",
   "metadata": {},
   "source": [
    "Below is one snapshot of the folder location where a list of PDF papers which are in one category are placed into."
   ]
  },
  {
   "cell_type": "code",
   "execution_count": 39,
   "metadata": {
    "collapsed": true
   },
   "outputs": [],
   "source": [
    "path = 'C:/Users/k/Documents/qiqqa/1194C662-D2D4-4D9D-B85E-E461A2F306E5'\n",
    "pdf = []\n",
    "for root, dr, fs in os.walk(path):\n",
    "    for f in fs:\n",
    "        if '.pdf' not in f:\n",
    "            continue\n",
    "        pdf.append(root + '/' + f)"
   ]
  },
  {
   "cell_type": "markdown",
   "metadata": {},
   "source": [
    "Following, we use combination of **nltk** stopwords and RegexpTokenizer to help remove unwanted characters. Keras text preprocessing is also used to split the texts into word sequences."
   ]
  },
  {
   "cell_type": "code",
   "execution_count": 40,
   "metadata": {
    "collapsed": false
   },
   "outputs": [],
   "source": [
    "# the snippet code from ref[1] -- see next notebook\n",
    "from nltk.corpus import stopwords\n",
    "from nltk.tokenize import RegexpTokenizer, sent_tokenize\n",
    "\n",
    "# Load stop-words\n",
    "stop_words = set(stopwords.words('english'))\n",
    "\n",
    "# Initialize tokenizer\n",
    "# It's also possible to try with a stemmer or to mix a stemmer and a lemmatizer\n",
    "tokenizer = RegexpTokenizer('[\\'a-zA-Z]+')"
   ]
  },
  {
   "cell_type": "code",
   "execution_count": 41,
   "metadata": {
    "collapsed": false
   },
   "outputs": [
    {
     "data": {
      "text/plain": [
       "108"
      ]
     },
     "execution_count": 41,
     "metadata": {},
     "output_type": "execute_result"
    }
   ],
   "source": [
    "len(pdf)"
   ]
  },
  {
   "cell_type": "code",
   "execution_count": 42,
   "metadata": {
    "collapsed": true
   },
   "outputs": [],
   "source": [
    "min_num_words = 5\n",
    "label = 'device characterizations'\n",
    "docs = []"
   ]
  },
  {
   "cell_type": "code",
   "execution_count": 43,
   "metadata": {
    "collapsed": true
   },
   "outputs": [
    {
     "name": "stdout",
     "output_type": "stream",
     "text": [
      "[\"b'IEEE TRANSACTIONS ON COMPONENTS, PACKAGING AND MANUFACTURING TECHNOLOGY, VOL. 4, NO. 10, OCTOBER 2014\", '', '1589', '', 'Optimal Material Properties of Molding']\n",
      "\n",
      "[\"b'www.advopticalmat.de\", 'www.MaterialsViews.com', '', 'COMMUNICATION', '']\n",
      "\n",
      "[\"b'This article has been accepted for inclusion in a future issue of this journal. Content is final as presented, with the exception of pagination.\", 'JOURNAL OF MICROELECTROMECHANICAL SYSTEMS', '', '1', '']\n",
      "\n",
      "[\"b'A FLEXIBLE LIQUID CRYSTAL POLYMER MEMS\", 'PRESSURE SENSOR ARRAY FOR FISH-LIKE', 'UNDERWATER SENSING', 'A. G. P. Kottapalli, M. Asadnia, J.M. Miao,', 'G. Barbastathis and M. S. Triantafyllou']\n",
      "\n",
      "[\"b'International Conference on Smart Materials Structures and Systems\", 'January 04-07, 2012, Bangalore, India', '', 'Dynamic Characterization of', 'a Fabricated Dual-axis In-plane Capacitive Accelerometer']\n",
      "\n",
      "[\"b'610\", '', 'JOURNAL OF MICROELECTROMECHANICAL SYSTEMS, VOL. 23, NO. 3, JUNE 2014', '', 'A Feedback Controlled MEMS Nanopositioner']\n",
      "\n",
      "[\"b'IEEE ELECTRON DEVICE LETTERS, VOL. 36, NO. 9, SEPTEMBER 2015\", '', '957', '', 'A Piezoelectric Micromachined Ultrasonic']\n",
      "\n",
      "['b\"See\\\\tdiscussions,\\\\tstats,\\\\tand\\\\tauthor\\\\tprofiles\\\\tfor\\\\tthis\\\\tpublication\\\\tat:\\\\thttps://www.researchgate.net/publication/246545322', '', 'Mechanical\\\\tand\\\\telectrical\\\\tcharacterization\\\\tof', 'semiconducting\\\\tZnO\\\\tnanorings\\\\tby\\\\tdirect\\\\tnanomanipulation', 'Article\\\\t\\\\tin\\\\t\\\\tApplied\\\\tPhysics\\\\tLetters\\\\t\\\\xc2\\\\xb7\\\\tAugust\\\\t2012']\n",
      "\n",
      "[\"b'See\\\\tdiscussions,\\\\tstats,\\\\tand\\\\tauthor\\\\tprofiles\\\\tfor\\\\tthis\\\\tpublication\\\\tat:\\\\thttps://www.researchgate.net/publication/254021543\", '', 'Large\\\\trange\\\\tMEMS\\\\tmotion\\\\tdetection\\\\tusing', 'integrated\\\\tpiezo-resistive\\\\tsilicon\\\\tnanowire', 'Article\\\\t\\\\tin\\\\t\\\\tProceedings\\\\tof\\\\tthe\\\\tIEEE\\\\tInternational\\\\tConference\\\\ton\\\\tMicro\\\\tElectro\\\\tMechanical\\\\tSystems\\\\t(MEMS)\\\\t\\\\xc2\\\\xb7']\n",
      "\n",
      "['b\"See\\\\tdiscussions,\\\\tstats,\\\\tand\\\\tauthor\\\\tprofiles\\\\tfor\\\\tthis\\\\tpublication\\\\tat:\\\\thttps://www.researchgate.net/publication/271442665', '', 'AlN\\\\tPiezoelectric\\\\ton\\\\tSilicon\\\\tMEMS\\\\tResonator', 'with\\\\tBoosted\\\\tQ\\\\tusing\\\\tPlanar\\\\tPatterned', 'Phononic\\\\tCrystals\\\\ton\\\\tAnchors']\n",
      "\n",
      "[\"b'See\\\\tdiscussions,\\\\tstats,\\\\tand\\\\tauthor\\\\tprofiles\\\\tfor\\\\tthis\\\\tpublication\\\\tat:\\\\thttps://www.researchgate.net/publication/258845825\", '', 'Optimized\\\\tCu-Sn\\\\tWafer-Level\\\\tBonding\\\\tUsing', 'Intermetallic\\\\tPhase\\\\tCharacterization', 'Article\\\\t\\\\tin\\\\t\\\\tJournal\\\\tof\\\\tElectronic\\\\tMaterials\\\\t\\\\xc2\\\\xb7\\\\tDecember\\\\t2013']\n",
      "\n",
      "[\"b'504\", '', 'IEEE TRANSACTIONS ON CONTROL SYSTEMS TECHNOLOGY, VOL. 23, NO. 2, MARCH 2015', '', 'A High-Bandwidth MEMS Nanopositioner for']\n",
      "\n",
      "[\"b'See\\\\tdiscussions,\\\\tstats,\\\\tand\\\\tauthor\\\\tprofiles\\\\tfor\\\\tthis\\\\tpublication\\\\tat:\\\\thttps://www.researchgate.net/publication/258296897\", '', 'Feasibility\\\\tstudy\\\\tof\\\\ta\\\\t3D\\\\tvibration-driven', 'electromagnetic\\\\tMEMS\\\\tenergy\\\\tharvester\\\\twith', 'multiple\\\\tvibration\\\\tmodes']\n",
      "\n",
      "[\"b'See\\\\tdiscussions,\\\\tstats,\\\\tand\\\\tauthor\\\\tprofiles\\\\tfor\\\\tthis\\\\tpublication\\\\tat:\\\\thttps://www.researchgate.net/publication/280092415\", '', 'CHARACTERIZING\\\\tMEMS\\\\tNONLINEARITIES', 'DIRECTLY:\\\\tTHE\\\\tRING-DOWN\\\\tMEASUREMENTS', 'Conference\\\\tPaper\\\\t\\\\xc2\\\\xb7\\\\tJune\\\\t2015']\n",
      "\n",
      "[\"b'See\\\\tdiscussions,\\\\tstats,\\\\tand\\\\tauthor\\\\tprofiles\\\\tfor\\\\tthis\\\\tpublication\\\\tat:\\\\thttps://www.researchgate.net/publication/260541776\", '', 'Z-Axis\\\\tMagnetometers\\\\tfor\\\\tMEMS\\\\tInertial', 'Measurement\\\\tUnits\\\\tUsing\\\\tan\\\\tIndustrial\\\\tProcess', 'Article\\\\t\\\\tin\\\\t\\\\tIEEE\\\\tTransactions\\\\ton\\\\tIndustrial\\\\tElectronics\\\\t\\\\xc2\\\\xb7\\\\tSeptember\\\\t2013']\n",
      "\n",
      "[\"b'Kelvin force microscopy characterization of charging\", 'effect in thin a-SiOxNy:H layers deposited in pulsed', 'plasma enhanced chemical vapordeposition process by', 'tuning the Silicon-environment', 'Christina Villeneuve, Kremena Makasheva, C. Bonafos, B. Despax, Laurent']\n",
      "\n",
      "['b\"MEMS', '', 'MEMS', '', 'MEMS']\n",
      "\n",
      "[\"b'This article has been accepted for inclusion in a future issue of this journal. Content is final as presented, with the exception of pagination.\", 'JOURNAL OF MICROELECTROMECHANICAL SYSTEMS', '', '1', '']\n",
      "\n",
      "[\"b'See\\\\tdiscussions,\\\\tstats,\\\\tand\\\\tauthor\\\\tprofiles\\\\tfor\\\\tthis\\\\tpublication\\\\tat:\\\\thttps://www.researchgate.net/publication/254499571\", '', 'Fabrication\\\\tand\\\\tanalysis\\\\tof\\\\thigh-performance', 'piezoelectric\\\\tMEMS\\\\tgenerators', 'Article\\\\t\\\\tin\\\\t\\\\tJournal\\\\tof\\\\tMicromechanics\\\\tand\\\\tMicroengineering\\\\t\\\\xc2\\\\xb7\\\\tJune\\\\t2012']\n",
      "\n",
      "[\"b'CARBON\", '', '6 0 ( 2 0 1 3 ) 2 4 6 \\\\xe2\\\\x80\\\\x932 5 3', '', 'Available at www.sciencedirect.com']\n",
      "\n",
      "[\"b'ABCM Symposium Series in Mechatronics - Vol. 2 - pp.477-484\", 'Copyright \\\\xc2\\\\xa9 2006 by ABCM', 'Proceedings of COBEM 2005', 'Copyright \\\\xc2\\\\xa9 2005 by ABCM', '']\n",
      "\n",
      "[\"b'See\\\\tdiscussions,\\\\tstats,\\\\tand\\\\tauthor\\\\tprofiles\\\\tfor\\\\tthis\\\\tpublication\\\\tat:\\\\thttps://www.researchgate.net/publication/269322032\", '', 'Development,\\\\tCharacterization\\\\tand', 'Application\\\\tof\\\\tCompact\\\\tSpectrometers\\\\tbased', 'on\\\\tMEMS\\\\twith\\\\tIn-plane...']\n",
      "\n",
      "[\"b'1958\", '', 'IEEE SENSORS JOURNAL, VOL. 12, NO. 6, JUNE 2012', '', 'Fabrication and Characterization of MEMS-Based']\n",
      "\n",
      "[\"b'See\\\\tdiscussions,\\\\tstats,\\\\tand\\\\tauthor\\\\tprofiles\\\\tfor\\\\tthis\\\\tpublication\\\\tat:\\\\thttps://www.researchgate.net/publication/269322032\", '', 'Development,\\\\tCharacterization\\\\tand', 'Application\\\\tof\\\\tCompact\\\\tSpectrometers\\\\tbased', 'on\\\\tMEMS\\\\twith\\\\tIn-plane...']\n",
      "\n",
      "[\"b'See\\\\tdiscussions,\\\\tstats,\\\\tand\\\\tauthor\\\\tprofiles\\\\tfor\\\\tthis\\\\tpublication\\\\tat:\\\\thttps://www.researchgate.net/publication/254021556\", '', 'Fully\\\\tintegrated\\\\tmicro\\\\telectromagnetic', 'vibration\\\\tenergy\\\\tharvesters\\\\twith\\\\tmicropatterning\\\\tof\\\\tbonded\\\\tmagnets', 'Article\\\\t\\\\tin\\\\t\\\\tProceedings\\\\tof\\\\tthe\\\\tIEEE\\\\tInternational\\\\tConference\\\\ton\\\\tMicro\\\\tElectro\\\\tMechanical\\\\tSystems\\\\t(MEMS)\\\\t\\\\xc2\\\\xb7']\n",
      "\n",
      "['b\"MECHANICAL TESTING OF IN-PLANE VIBRATIONS IN MEMSSENSORS, BASED ON IMAGE PROCESSING TECHNIQUE', 'Alfredo Cigada', 'Mechanical Engineering', 'Department', 'Politecnico di Milano']\n",
      "\n",
      "[\"b'View Online / Journal Homepage / Table of Contents for this issue\", '', 'C', '', 'Lab on a Chip']\n",
      "\n",
      "['b\"University of Nevada, Reno', '', 'Characterization of MEMS Devices on', 'the Basis of their Frequency Response', 'Function (FRF)']\n",
      "\n",
      "[\"b'See\\\\tdiscussions,\\\\tstats,\\\\tand\\\\tauthor\\\\tprofiles\\\\tfor\\\\tthis\\\\tpublication\\\\tat:\\\\thttps://www.researchgate.net/publication/254499598\", '', 'Fabrication\\\\tand\\\\tcharacterization\\\\tof\\\\ta', 'multidirectional-sensitive\\\\tcontact-enhanced', 'inertial\\\\tmicroswitch\\\\twith\\\\ta...']\n",
      "\n",
      "[\"b'1\", '', 'A Second Order Delta-Sigma Control of Dielectric', 'Charge for Contactless Capacitive MEMS', 'S. Gorreta1 , J. Pons-Nin1 , E. Blokhina2 and M. Dominguez-Pumar1']\n",
      "\n",
      "[\"b'IEEE TRANSACTIONS ON TERAHERTZ SCIENCE AND TECHNOLOGY, VOL. 2, NO. 2, MARCH 2012\", '', '177', '', 'Design and Characterization of a Room Temperature']\n",
      "\n",
      "['b\"See\\\\tdiscussions,\\\\tstats,\\\\tand\\\\tauthor\\\\tprofiles\\\\tfor\\\\tthis\\\\tpublication\\\\tat:\\\\thttps://www.researchgate.net/publication/236340117', '', 'Mechanical\\\\tcharacterization\\\\tof\\\\tmaterials\\\\tat', 'small\\\\tlength\\\\tscales', 'Article\\\\t\\\\tin\\\\t\\\\tJournal\\\\tof\\\\tMechanical\\\\tScience\\\\tand\\\\tTechnology\\\\t\\\\xc2\\\\xb7\\\\tFebruary\\\\t2012']\n",
      "\n",
      "[\"b'JOURNAL OF MICROELECTROMECHANICAL SYSTEMS, VOL. 23, NO. 1, FEBRUARY 2014\", '', '243', '', 'Performance of Electro-Thermally Driven']\n",
      "\n",
      "[\"b'IEEE TRANSACTIONS ON MICROWAVE THEORY AND TECHNIQUES, VOL. 60, NO. 8, AUGUST 2012\", '', '2439', '', 'A High-Performance Continuously Tunable']\n",
      "\n",
      "['b\"See\\\\tdiscussions,\\\\tstats,\\\\tand\\\\tauthor\\\\tprofiles\\\\tfor\\\\tthis\\\\tpublication\\\\tat:\\\\thttps://www.researchgate.net/publication/268231275', '', 'Electrically\\\\ttunable\\\\toptical\\\\tpolarization', \"rotation\\\\ton\\\\ta\\\\tsilicon\\\\tchip\\\\tusing\\\\tBerry's\\\\tphase\", 'Article\\\\t\\\\tin\\\\t\\\\tNature\\\\tCommunications\\\\t\\\\xc2\\\\xb7\\\\tNovember\\\\t2014']\n",
      "\n",
      "[\"b'IEEE TRANSACTIONS ON MAGNETICS, VOL. 48, NO. 11, NOVEMBER 2012\", '', '4115', '', 'Towards picoTesla Magnetic Field Detection Using']\n",
      "\n",
      "[\"b'Microelectronic Engineering 104 (2013) 75\\\\xe2\\\\x80\\\\x9384\", '', 'Contents lists available at SciVerse ScienceDirect', '', 'Microelectronic Engineering']\n",
      "\n",
      "[\"b'JOURNAL OF MICROELECTROMECHANICAL SYSTEMS, VOL. 23, NO. 5, OCTOBER 2014\", '', '1121', '', 'Fabrication and Characterization of a Vacuum']\n",
      "\n",
      "[\"b'See\\\\tdiscussions,\\\\tstats,\\\\tand\\\\tauthor\\\\tprofiles\\\\tfor\\\\tthis\\\\tpublication\\\\tat:\\\\thttps://www.researchgate.net/publication/271546505\", '', 'Wafer\\\\tlevel\\\\thermetic\\\\tencapsulation\\\\tof\\\\tMEMS', 'inertial\\\\tsensors\\\\tusing\\\\tSOI\\\\tcap\\\\twafers\\\\twith', 'vertical\\\\tfeedthroughs']\n",
      "\n",
      "exception..\n",
      "[\"b'See\\\\tdiscussions,\\\\tstats,\\\\tand\\\\tauthor\\\\tprofiles\\\\tfor\\\\tthis\\\\tpublication\\\\tat:\\\\thttps://www.researchgate.net/publication/271546505\", '', 'Wafer\\\\tlevel\\\\thermetic\\\\tencapsulation\\\\tof\\\\tMEMS', 'inertial\\\\tsensors\\\\tusing\\\\tSOI\\\\tcap\\\\twafers\\\\twith', 'vertical\\\\tfeedthroughs']\n",
      "\n",
      "[\"b'Home\", '', 'Search', '', 'Collections']\n",
      "\n",
      "[\"b'In-plane vibration characterization of\", 'microelectromechanical systems using acousto-optic', 'modulated partially incoherent stroboscopic imaging', 'Dung-An Wanga, Fang-Wen Sheub and Yen-Sih Chiua', 'a']\n",
      "\n",
      "[\"b'Force Rebalance, Whole Angle, and Self-Calibration\", 'Mechanization of Silicon MEMS Quad Mass Gyro', 'A.A. Trusov, G. Atikyan, D.M. Rozelle, A.D. Meyer', '', 'S.A. Zotov, B.R. Simon, A.M. Shkel']\n",
      "\n",
      "[\"b'See\\\\tdiscussions,\\\\tstats,\\\\tand\\\\tauthor\\\\tprofiles\\\\tfor\\\\tthis\\\\tpublication\\\\tat:\\\\thttps://www.researchgate.net/publication/230707968\", '', 'Optical\\\\tinspection\\\\tof\\\\tmicro-electromechanical', 'systems', 'Article\\\\t\\\\tin\\\\t\\\\tProceedings\\\\tof\\\\tSPIE\\\\t-\\\\tThe\\\\tInternational\\\\tSociety\\\\tfor\\\\tOptical\\\\tEngineering\\\\t\\\\xc2\\\\xb7\\\\tSeptember\\\\t2008']\n",
      "\n",
      "[\"b'JOURNAL OF MICROELECTROMECHANICAL SYSTEMS, VOL. 23, NO. 5, OCTOBER 2014\", '', '1073', '', 'Closed-Loop Tracking of Large Displacements in']\n",
      "\n",
      "['b\"See\\\\tdiscussions,\\\\tstats,\\\\tand\\\\tauthor\\\\tprofiles\\\\tfor\\\\tthis\\\\tpublication\\\\tat:\\\\thttps://www.researchgate.net/publication/223843835', '', 'Nanoscale\\\\tdisplacement\\\\tmeasurement\\\\tof', 'electrostatically\\\\tactuated\\\\tmicro-devices\\\\tusing', 'optical\\\\tmicroscopy\\\\tand\\\\tdigital...']\n",
      "\n",
      "[\"b'IEEE TRANSACTIONS ON CIRCUITS AND SYSTEMS\\\\xe2\\\\x80\\\\x94I: REGULAR PAPERS, VOL. 59, NO. 5, MAY 2012\", '', '979', '', 'An Empirical Phase-Noise Model for MEMS']\n",
      "\n",
      "[\"b'See\\\\tdiscussions,\\\\tstats,\\\\tand\\\\tauthor\\\\tprofiles\\\\tfor\\\\tthis\\\\tpublication\\\\tat:\\\\thttps://www.researchgate.net/publication/253650525\", '', 'Mechanical\\\\tBehavior\\\\tand\\\\tAnisotropy\\\\tof\\\\tSpinCoated\\\\tSU-8\\\\tThin\\\\tFilms\\\\tfor\\\\tMEMS', 'Article\\\\t\\\\tin\\\\t\\\\tJournal\\\\tof\\\\tMicroelectromechanical\\\\tSystems\\\\t\\\\xc2\\\\xb7\\\\tMay\\\\t2013', 'DOI:\\\\t10.1109/JMEMS.2013.2264341']\n",
      "\n",
      "[\"b'Micro Motion Analysis System for MEMS Characterization\", 'Eric M. Lawrence*a, Christian Rembe **b,', 'Polytec Inc.a, Polytec GMBHb', 'ABSTRACT', 'Laser Doppler Vibrometry (LDV) is a widely accepted tool for dynamic characterization of MEMS. Using automated']\n",
      "\n",
      "[\"b'Recent Advances in MEMS\", 'Sensor Technology\\\\xe2\\\\x80\\\\x94', 'Biomedical Applications', 'Farbod Khoshnoud and Clarence W. de Silva', '']\n",
      "\n",
      "[\"b'IOP PUBLISHING\", '', 'JOURNAL OF MICROMECHANICS AND MICROENGINEERING', '', 'doi:10.1088/0960-1317/22/11/115031']\n",
      "\n",
      "[\"b'This article has been accepted for inclusion in a future issue of this journal. Content is final as presented, with the exception of pagination.\", 'IEEE TRANSACTIONS ON AUTOMATION SCIENCE AND ENGINEERING', '', '1', '']\n",
      "\n",
      "[\"b'See\\\\tdiscussions,\\\\tstats,\\\\tand\\\\tauthor\\\\tprofiles\\\\tfor\\\\tthis\\\\tpublication\\\\tat:\\\\thttps://www.researchgate.net/publication/282987236\", '', 'Out-of-plane\\\\tplatforms\\\\twith\\\\tbi-directional', 'thermal\\\\tbimorph\\\\tactuation\\\\tfor\\\\ttransducer', 'applications']\n",
      "\n",
      "[\"b'IEEE TRANSACTIONS ON COMPONENTS, PACKAGING AND MANUFACTURING TECHNOLOGY, VOL. 5, NO. 7, JULY 2015\", '', '945', '', 'Investigation of Stress in MEMS Sensor Device']\n",
      "\n",
      "[\"b'See\\\\tdiscussions,\\\\tstats,\\\\tand\\\\tauthor\\\\tprofiles\\\\tfor\\\\tthis\\\\tpublication\\\\tat:\\\\thttps://www.researchgate.net/publication/254499726\", '', 'TiO2\\\\tnanoparticles\\\\tmodified', 'polydimethylsiloxane\\\\twith\\\\tfast\\\\tresponse\\\\ttime', 'and\\\\tincreased\\\\tdielectric...']\n",
      "\n",
      "[\"b'JOURNAL OF MICROELECTROMECHANICAL SYSTEMS, VOL. 25, NO. 2, APRIL 2016\", '', '297', '', 'Characterization of MEMS Resonator Nonlinearities']\n",
      "\n",
      "[\"b'Sensors and Actuators A 177 (2012) 67\\\\xe2\\\\x80\\\\x9378\", '', 'Contents lists available at SciVerse ScienceDirect', '', 'Sensors and Actuators A: Physical']\n",
      "\n",
      "[\"b'JOURNAL OF MICROELECTROMECHANICAL SYSTEMS, VOL. 21, NO. 2, APRIL 2012\", '', '259', '', 'JMEMS Letters']\n",
      "\n",
      "[\"b'Displays xxx (2014) xxx\\\\xe2\\\\x80\\\\x93xxx\", '', 'Contents lists available at ScienceDirect', '', 'Displays']\n",
      "\n",
      "exception..\n",
      "[\"b'Displays xxx (2014) xxx\\\\xe2\\\\x80\\\\x93xxx\", '', 'Contents lists available at ScienceDirect', '', 'Displays']\n",
      "\n",
      "[\"b'See\\\\tdiscussions,\\\\tstats,\\\\tand\\\\tauthor\\\\tprofiles\\\\tfor\\\\tthis\\\\tpublication\\\\tat:\\\\thttps://www.researchgate.net/publication/258297121\", '', 'MEMS\\\\tpiezoresistive\\\\tring\\\\tresonator\\\\tfor\\\\tAFM', 'imaging\\\\twith\\\\tpico-Newton\\\\tforce', 'Article\\\\t\\\\tin\\\\t\\\\tJournal\\\\tof\\\\tMicromechanics\\\\tand\\\\tMicroengineering\\\\t\\\\xc2\\\\xb7\\\\tJanuary\\\\t2013']\n",
      "\n",
      "[\"b'Microsyst Technol\", 'DOI 10.1007/s00542-011-1423-7', '', 'TECHNICAL PAPER', '']\n",
      "\n",
      "[\"b'JOURNAL OF MICROELECTROMECHANICAL SYSTEMS, VOL. 21, NO. 4, AUGUST 2012\", '', '771', '', 'JMEMS Letters']\n",
      "\n",
      "['b\"Unamuno, Anartz and Blue, Robert and Uttamchandani, Deepak (2013)', 'Modeling and characterization of a vernier latching MEMS variable', 'optical attenuator. Journal of Microelectromechanical Systems, 22 (5).', 'pp. 1229-1241. ISSN 1057-7157 ,', 'http://dx.doi.org/10.1109/JMEMS.2013.2262593']\n",
      "\n",
      "[\"b'Bijoyraj Sahu\", 'Curtis R. Taylor', 'e-mail: curtis.taylor@ufl.edu', 'Department of Mechanical and Aerospace', 'Engineering,']\n",
      "\n",
      "[\"b'A 27 MHZ TEMPERATURE COMPENSATED MEMS OSCILLATOR\", 'WITH SUB-PPM INSTABILITY', 'Roozbeh Tabrizian, Mauricio Pardo and Farrokh Ayazi', 'Georgia Institute of Technology, Atlanta, Georgia, USA', 'ABSTRACT']\n",
      "\n",
      "exception..\n",
      "[\"b'A 27 MHZ TEMPERATURE COMPENSATED MEMS OSCILLATOR\", 'WITH SUB-PPM INSTABILITY', 'Roozbeh Tabrizian, Mauricio Pardo and Farrokh Ayazi', 'Georgia Institute of Technology, Atlanta, Georgia, USA', 'ABSTRACT']\n",
      "\n",
      "[\"b'UCLA\", 'UCLA Previously Published Works', 'Title', 'Characterization of nontoxic liquid-metal alloy galinstan for applications in microdevices', '']\n",
      "\n",
      "[\"b'Technical Paper\", '', 'Optical Measurement Techniques for', 'Dynamic Characterization of MEMS', 'Devices']\n",
      "\n",
      "[\"b'See\\\\tdiscussions,\\\\tstats,\\\\tand\\\\tauthor\\\\tprofiles\\\\tfor\\\\tthis\\\\tpublication\\\\tat:\\\\thttps://www.researchgate.net/publication/234130875\", '', 'Mechanical\\\\tDesign\\\\tand\\\\tCharacterization\\\\tfor', 'MEMS\\\\tThin-Film\\\\tPackaging', 'Article\\\\t\\\\tin\\\\t\\\\tJournal\\\\tof\\\\tMicroelectromechanical\\\\tSystems\\\\t\\\\xc2\\\\xb7\\\\tFebruary\\\\t2012']\n",
      "\n",
      "[\"b'MULTI-\\\\xc2\\\\xadAXIS \\\\xc2\\\\xa0ALN-\\\\xc2\\\\xadON-\\\\xc2\\\\xadSILICON \\\\xc2\\\\xa0VIBRATION \\\\xc2\\\\xa0ENERGY \\\\xc2\\\\xa0HARVESTER \\\\xc2\\\\xa0\", 'WITH \\\\xc2\\\\xa0INTEGRATED \\\\xc2\\\\xa0FREQUENCY-\\\\xc2\\\\xadUPCONVERTING \\\\xc2\\\\xa0TRANSDUCERS \\\\xc2\\\\xa0', 'J. \\\\xc2\\\\xa0L. \\\\xc2\\\\xa0Fu1, \\\\xc2\\\\xa0Y. \\\\xc2\\\\xa0Nakano2, \\\\xc2\\\\xa0L. \\\\xc2\\\\xa0D. \\\\xc2\\\\xa0Sorenson1, \\\\xc2\\\\xa0and \\\\xc2\\\\xa0F. \\\\xc2\\\\xa0Ayazi1 \\\\xc2\\\\xa0', '1', 'Georgia \\\\xc2\\\\xa0Institute \\\\xc2\\\\xa0of \\\\xc2\\\\xa0Technology, \\\\xc2\\\\xa0Atlanta, \\\\xc2\\\\xa0Georgia, \\\\xc2\\\\xa0USA \\\\xc2\\\\xa0']\n",
      "\n",
      "[\"b'See\\\\tdiscussions,\\\\tstats,\\\\tand\\\\tauthor\\\\tprofiles\\\\tfor\\\\tthis\\\\tpublication\\\\tat:\\\\thttps://www.researchgate.net/publication/275211941\", '', 'Modeling,\\\\tFabrication,\\\\tand\\\\tCharacterization\\\\tof', 'Piezoelectric\\\\tMicromachined\\\\tUltrasonic', 'Transducer\\\\tArrays\\\\tBased...']\n",
      "\n",
      "[\"b'See\\\\tdiscussions,\\\\tstats,\\\\tand\\\\tauthor\\\\tprofiles\\\\tfor\\\\tthis\\\\tpublication\\\\tat:\\\\thttps://www.researchgate.net/publication/264828297\", '', 'Characterization\\\\tof\\\\ttime-dependent\\\\tanelastic', 'microbeam\\\\tbending\\\\tmechanics', 'Article\\\\t\\\\tin\\\\t\\\\tJournal\\\\tof\\\\tPhysics\\\\tD\\\\tApplied\\\\tPhysics\\\\t\\\\xc2\\\\xb7\\\\tAugust\\\\t2014']\n",
      "\n",
      "[\"b'See\\\\tdiscussions,\\\\tstats,\\\\tand\\\\tauthor\\\\tprofiles\\\\tfor\\\\tthis\\\\tpublication\\\\tat:\\\\thttps://www.researchgate.net/publication/283676252\", '', 'Towards\\\\ta\\\\tdigital\\\\tsound\\\\treconstruction\\\\tMEMS', 'device:\\\\tCharacterization\\\\tof\\\\ta\\\\tsingle\\\\tPZT\\\\tbased', 'piezoelectric\\\\tactuator']\n",
      "\n",
      "[\"b'See\\\\tdiscussions,\\\\tstats,\\\\tand\\\\tauthor\\\\tprofiles\\\\tfor\\\\tthis\\\\tpublication\\\\tat:\\\\thttps://www.researchgate.net/publication/229034180\", '', 'Miniaturized\\\\tUWB\\\\tFilters\\\\tIntegrated\\\\tWith', 'Tunable\\\\tNotch\\\\tFilters\\\\tUsing\\\\ta\\\\tSilicon-Based', 'Integrated\\\\tPassive\\\\tDevice\\\\tTechnology']\n",
      "\n",
      "[\"b'Sensors and Actuators A 177 (2012) 1\\\\xe2\\\\x80\\\\x939\", '', 'Contents lists available at ScienceDirect', '', 'Sensors and Actuators A: Physical']\n",
      "\n",
      "[\"b'The final publication is available at Springer via http://dx.doi.org/10.1007/s10470-014-0458-y\", '', 'Noname manus\\\\rript No.', '', '(will be inserted by the editor)']\n",
      "\n",
      "[\"b'See\\\\tdiscussions,\\\\tstats,\\\\tand\\\\tauthor\\\\tprofiles\\\\tfor\\\\tthis\\\\tpublication\\\\tat:\\\\thttps://www.researchgate.net/publication/276925696\", '', 'Advanced\\\\tMEMS\\\\tProcess\\\\tfor\\\\tWafer\\\\tLevel', 'Hermetic\\\\tEncapsulation\\\\tof\\\\tMEMS\\\\tDevices\\\\tUsing', 'SOI\\\\tCap\\\\tWafers\\\\tWith\\\\tVertical...']\n",
      "\n",
      "[\"b'See\\\\tdiscussions,\\\\tstats,\\\\tand\\\\tauthor\\\\tprofiles\\\\tfor\\\\tthis\\\\tpublication\\\\tat:\\\\thttps://www.researchgate.net/publication/241637739\", '', 'Hollow\\\\tSquare\\\\tand\\\\tRing-Plate\\\\tMEMS', 'Oscillators\\\\tEmbedded\\\\tin\\\\ta\\\\tPhase-Locked\\\\tLoop', 'for\\\\tLow\\\\tLimit\\\\tof\\\\tDetection\\\\tin\\\\tLiquid']\n",
      "\n",
      "[\"b'Jpn. J. Appl. Phys. Vol. 41 (2002) pp. 5853\\\\xe2\\\\x80\\\\x935857\", 'Part 1, No. 9, September 2002', '#2002 The Japan Society of Applied Physics', '', 'Characterization of Silicon Scanning Mirror for Laser Display']\n",
      "\n",
      "[\"b'See\\\\tdiscussions,\\\\tstats,\\\\tand\\\\tauthor\\\\tprofiles\\\\tfor\\\\tthis\\\\tpublication\\\\tat:\\\\thttps://www.researchgate.net/publication/257440050\", '', 'Design\\\\tof\\\\tnovel\\\\tcompact\\\\tanti-stiction\\\\tand\\\\tlow', 'insertion\\\\tloss\\\\tRF\\\\tMEMS\\\\tswitch', 'Article\\\\t\\\\tin\\\\t\\\\tMicrosystem\\\\tTechnologies\\\\t\\\\xc2\\\\xb7\\\\tFebruary\\\\t2013']\n",
      "\n",
      "[\"b'WIDEBAND MEMS ELECTROSTATIC VIBRATION ENERGY\", 'HARVESTERS BASED ON GAP-CLOSING INTERDIGITED COMBS', 'WITH A TRAPEZOIDAL CROSS SECTION', 'R. Guilllemet1, P. Basset1*, D. Galayko2, F. Cottone1, F. Marty1 and T. Bourouina1', '1']\n",
      "\n",
      "[\"b'Home\", '', 'Search', '', 'Collections']\n",
      "\n",
      "[\"b'Stretchable Electronics\", '', 'Stretchable, Wireless Sensors and Functional Substrates', 'for Epidermal Characterization of Sweat', 'Xian Huang, Yuhao Liu, Kaile Chen, Woo-Jung Shin, Ching-Jui Lu, Gil-Woo Kong,']\n",
      "\n",
      "[\"b'46th International Symposium on Microelectronics (IMAPS 2013) | Sept. 30 - Oct. 3, 2013 | Orlando, FL USA\", '', 'High and Moderate-Level Vacuum Packaging of Vibratory MEMS', 'Igor P. Prikhodko1,2 *, Brenton R. Simon1 *, Gunjana Sharma1 , Sergei A. Zotov1 , Alexander A. Trusov1 , Andrei M. Shkel1', '1']\n",
      "\n",
      "[\"b'Dynamic Analysis of Silicon Micromachined Double-Rotor Scanning Mirror\", '', 'Luiz Claudio M. Oliveira', 'marangoni@fem.unicamp.br', '']\n",
      "\n",
      "[\"b'IOP PUBLISHING\", '', 'JOURNAL OF MICROMECHANICS AND MICROENGINEERING', '', 'doi:10.1088/0960-1317/23/4/045004']\n",
      "\n",
      "[\"b'This article has been accepted for inclusion in a future issue of this journal. Content is final as presented, with the exception of pagination.\", 'JOURNAL OF MICROELECTROMECHANICAL SYSTEMS', '', '1', '']\n",
      "\n",
      "[\"b'See\\\\tdiscussions,\\\\tstats,\\\\tand\\\\tauthor\\\\tprofiles\\\\tfor\\\\tthis\\\\tpublication\\\\tat:\\\\thttps://www.researchgate.net/publication/226694463\", '', 'MEMS-Based\\\\tNanomechanics:\\\\tInfluence\\\\tof', 'MEMS\\\\tDesign\\\\ton\\\\tTest\\\\tTemperature', 'Article\\\\t\\\\tin\\\\t\\\\tExperimental\\\\tMechanics\\\\t\\\\xc2\\\\xb7\\\\tJuly\\\\t2012']\n",
      "\n",
      "[\"b'452\", '', 'JOURNAL OF MICROELECTROMECHANICAL SYSTEMS, VOL. 22, NO. 2, APRIL 2013', '', 'Design, Fabrication, and Characterization of a']\n",
      "\n",
      "exception..\n",
      "[\"b'452\", '', 'JOURNAL OF MICROELECTROMECHANICAL SYSTEMS, VOL. 22, NO. 2, APRIL 2013', '', 'Design, Fabrication, and Characterization of a']\n",
      "\n",
      "[\"b'IEEE TRANSACTIONS O N MAGNETICS. VOL. 35, NO. 2, MARCH\", '', '1YY9', '', '9x3']\n",
      "\n",
      "[\"b'Microsyst Technol (2012) 18:497\\\\xe2\\\\x80\\\\x93506\", 'DOI 10.1007/s00542-012-1424-1', '', 'TECHNICAL PAPER', '']\n",
      "\n",
      "[\"b'Application of Micro Scanning Laser Doppler Vibrometer for dynamic\", 'characterization and Quality factor assessment in Micro Electro Mechanical', 'Devices (MEMS)', '', 'Paolo Castellini, Barbara Marchetti, E. P. Tomasini']\n",
      "\n",
      "[\"b'See\\\\tdiscussions,\\\\tstats,\\\\tand\\\\tauthor\\\\tprofiles\\\\tfor\\\\tthis\\\\tpublication\\\\tat:\\\\thttps://www.researchgate.net/publication/282824199\", '', 'A\\\\treview\\\\tof\\\\tmicroelectromechanical\\\\tsystems', 'for\\\\tnanoscale\\\\tmechanical\\\\tcharacterization', 'Article\\\\t\\\\tin\\\\t\\\\tJournal\\\\tof\\\\tMicromechanics\\\\tand\\\\tMicroengineering\\\\t\\\\xc2\\\\xb7\\\\tSeptember\\\\t2015']\n",
      "\n",
      "[\"b'See\\\\tdiscussions,\\\\tstats,\\\\tand\\\\tauthor\\\\tprofiles\\\\tfor\\\\tthis\\\\tpublication\\\\tat:\\\\thttps://www.researchgate.net/publication/258627867\", '', 'Flexible-CMOS\\\\tand\\\\tBiocompatible\\\\tPiezoelectric', 'AlN\\\\tmaterial\\\\tfor\\\\tMEMS\\\\tApplications', 'Article\\\\t\\\\tin\\\\t\\\\tSmart\\\\tMaterials\\\\tand\\\\tStructures\\\\t\\\\xc2\\\\xb7\\\\tOctober\\\\t2013']\n",
      "\n",
      "['b\"Nanowires', '', 'In Situ Electron Microscopy Four-Point Electromechanical', 'Characterization of Freestanding Metallic and', 'Semiconducting Nanowires']\n",
      "\n",
      "[\"b'See\\\\tdiscussions,\\\\tstats,\\\\tand\\\\tauthor\\\\tprofiles\\\\tfor\\\\tthis\\\\tpublication\\\\tat:\\\\thttps://www.researchgate.net/publication/254996412\", '', 'Review\\\\tof\\\\tpyroelectric\\\\tthermal\\\\tenergy\\\\tharvesting', 'and\\\\tnew\\\\tMEMs\\\\tbased\\\\tresonant\\\\tenergy', 'conversion\\\\ttechniques']\n",
      "\n",
      "['b\"Nanoscale', 'View Article Online', '', 'Published on 14 October 2013. Downloaded by Georgia Institute of Technology on 04/11/2013 14:08:06.', '']\n",
      "\n",
      "exception..\n",
      "['b\"Nanoscale', 'View Article Online', '', 'Published on 14 October 2013. Downloaded by Georgia Institute of Technology on 04/11/2013 14:08:06.', '']\n",
      "\n",
      "[\"b'See\\\\tdiscussions,\\\\tstats,\\\\tand\\\\tauthor\\\\tprofiles\\\\tfor\\\\tthis\\\\tpublication\\\\tat:\\\\thttps://www.researchgate.net/publication/258793478\", '', 'Design\\\\tand\\\\tAnalysis\\\\tof\\\\tLithium-Niobate-Based', 'High\\\\tElectromechanical\\\\tCoupling\\\\tRF-MEMS', 'Resonators\\\\tfor\\\\tWideband...']\n",
      "\n",
      "['b\"ETH Diss. No 18374', '', 'Electrostatically Actuated All-Polymer', 'Microbeam Resonators Characterization and Application', 'Dissertation submitted to']\n",
      "\n",
      "[\"b'See\\\\tdiscussions,\\\\tstats,\\\\tand\\\\tauthor\\\\tprofiles\\\\tfor\\\\tthis\\\\tpublication\\\\tat:\\\\thttps://www.researchgate.net/publication/235603841\", '', 'Scalable\\\\tfabrication\\\\tof\\\\thigh-power\\\\tgraphene', 'micro-supercapacitors\\\\tfor\\\\tflexible\\\\tand\\\\ton-chip', 'energy\\\\tstorage']\n",
      "\n",
      "[\"b'See\\\\tdiscussions,\\\\tstats,\\\\tand\\\\tauthor\\\\tprofiles\\\\tfor\\\\tthis\\\\tpublication\\\\tat:\\\\thttps://www.researchgate.net/publication/239815803\", '', 'Fabrication\\\\tand\\\\tcharacterization\\\\tof\\\\ta', 'piezoelectric\\\\tgallium\\\\tnitride\\\\tswitch\\\\tfor\\\\toptical', 'MEMS\\\\tapplications']\n",
      "\n",
      "[\"b'740\", '', 'JOURNAL OF MICROELECTROMECHANICAL SYSTEMS, VOL. 23, NO. 3, JUNE 2014', '', 'An In-Plane Approximated Nonlinear MEMS']\n",
      "\n",
      "[\"b'Characterization and control of a high-Q MEMS\", 'inertial sensor using low-cost hardware', 'J. A. Gregory, J. Cho, and K. Najafi', 'Center for Wireless Integrated Microsensing and Systems (WIMS2 ), University of Michigan Ann Arbor, USA', '']\n",
      "\n",
      "[\"b'See\\\\tdiscussions,\\\\tstats,\\\\tand\\\\tauthor\\\\tprofiles\\\\tfor\\\\tthis\\\\tpublication\\\\tat:\\\\thttps://www.researchgate.net/publication/258788833\", '', 'RF\\\\tMEMS\\\\treconfigurable\\\\ttwo-band\\\\tantenna', 'Article\\\\t\\\\tin\\\\t\\\\tIEEE\\\\tAntennas\\\\tand\\\\tWireless\\\\tPropagation\\\\tLetters\\\\t\\\\xc2\\\\xb7\\\\tJanuary\\\\t2013', 'DOI:\\\\t10.1109/LAWP.2013.2238882']\n",
      "\n",
      "[\"b'Sensors and Actuators A 224 (2015) 169\\\\xe2\\\\x80\\\\x93176\", '', 'Contents lists available at ScienceDirect', '', 'Sensors and Actuators A: Physical']\n",
      "\n"
     ]
    }
   ],
   "source": [
    "for doc in pdf:\n",
    "    try:\n",
    "        p1 = textract.process(doc)\n",
    "    except:\n",
    "        print('exception..')\n",
    "        pass\n",
    "    p2 = str(p1)\n",
    "    p3 = p2.split('\\\\r\\\\n')\n",
    "    print(p3[:5])\n",
    "    print()\n",
    "    i = 0\n",
    "    start = False\n",
    "    txt = []\n",
    "    for p in p3:\n",
    "        # w = [t for t in tokenizer.tokenize(p) if t.lower() not in stop_words]\n",
    "        w = keras.preprocessing.text.text_to_word_sequence(p)\n",
    "        if 'abstract' not in w and not start:\n",
    "            continue\n",
    "        if 'abstract' in w:\n",
    "            start = True\n",
    "            continue\n",
    "        if 'references' in w:\n",
    "            break\n",
    "        w1 = [v for v in w if not v.lower().startswith('x')]\n",
    "        if len(w1)<min_num_words:\n",
    "            continue\n",
    "        for word in w1:\n",
    "            txt.append(word)\n",
    "#         print(w1)\n",
    "        i = i +1\n",
    "        if i>1000:\n",
    "            break\n",
    "    if txt != []:\n",
    "        docs.append((label,txt))"
   ]
  },
  {
   "cell_type": "code",
   "execution_count": 44,
   "metadata": {
    "collapsed": false
   },
   "outputs": [
    {
     "name": "stdout",
     "output_type": "stream",
     "text": [
      "81\n"
     ]
    }
   ],
   "source": [
    "print(len(docs))"
   ]
  },
  {
   "cell_type": "markdown",
   "metadata": {},
   "source": [
    "Save the text and category as **pkl** file"
   ]
  },
  {
   "cell_type": "code",
   "execution_count": 46,
   "metadata": {
    "collapsed": false
   },
   "outputs": [],
   "source": [
    "import _pickle as pickle"
   ]
  },
  {
   "cell_type": "code",
   "execution_count": 48,
   "metadata": {
    "collapsed": false
   },
   "outputs": [],
   "source": [
    "pickle.dump(docs, open('device_characterization.pkl', 'wb'))"
   ]
  }
 ],
 "metadata": {
  "anaconda-cloud": {},
  "kernelspec": {
   "display_name": "Python [conda root]",
   "language": "python",
   "name": "conda-root-py"
  },
  "language_info": {
   "codemirror_mode": {
    "name": "ipython",
    "version": 3
   },
   "file_extension": ".py",
   "mimetype": "text/x-python",
   "name": "python",
   "nbconvert_exporter": "python",
   "pygments_lexer": "ipython3",
   "version": "3.5.2"
  }
 },
 "nbformat": 4,
 "nbformat_minor": 1
}
